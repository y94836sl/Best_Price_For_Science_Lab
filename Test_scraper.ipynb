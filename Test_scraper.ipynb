{
 "cells": [
  {
   "cell_type": "code",
   "execution_count": 1,
   "id": "0c3d972e-b162-439d-bdf3-d083df9f4474",
   "metadata": {},
   "outputs": [],
   "source": [
    "from bs4 import BeautifulSoup\n",
    "import requests\n",
    "import csv\n",
    " \n",
    "HEADERS = {'user-agent': 'Mozilla/5.0 (Macintosh; Intel Mac OS X 13_0) AppleWebKit/537.36 (KHTML, like Gecko) Chrome/106.0.0.0 Safari/537.36'}\n",
    "\n",
    "result = {}\n",
    "url =  \"https://www.amazon.co.uk/s?k=Lenovo+ThinkCentre&crid=1NM9IGP0ZU0CL&sprefix=lenovo+thinkcentre%2Caps%2C176&ref=nb_sb_noss_1\"\n",
    "\n",
    "# fetch the url\n",
    "webpage = requests.get(url, headers=HEADERS)\n",
    "soup = BeautifulSoup(webpage.content, \"lxml\")"
   ]
  },
  {
   "cell_type": "code",
   "execution_count": 2,
   "id": "465e3bd5-cd02-456b-8689-9b9e41a705ac",
   "metadata": {},
   "outputs": [],
   "source": [
    "names = soup.findAll('span',{'class':'a-size-medium a-color-base a-text-normal'})\n",
    "nameList = []\n",
    "for name in names:\n",
    "    nameList.append(name.get_text())"
   ]
  },
  {
   "cell_type": "code",
   "execution_count": 3,
   "id": "7d1025e8-86b3-4491-a0c1-81c4696ab901",
   "metadata": {},
   "outputs": [],
   "source": [
    "# nameList"
   ]
  },
  {
   "cell_type": "code",
   "execution_count": 4,
   "id": "a23f0d1b-86ec-4208-a967-c168ec2e37e1",
   "metadata": {},
   "outputs": [],
   "source": [
    "prices = soup.findAll('span',{'class':'a-offscreen'})\n",
    "priceList = []\n",
    "for price in prices:\n",
    "    priceList.append(price.get_text())"
   ]
  },
  {
   "cell_type": "code",
   "execution_count": 5,
   "id": "2bc1cdce-daec-4836-b57e-21971a09a5d3",
   "metadata": {},
   "outputs": [],
   "source": [
    "# priceList"
   ]
  },
  {
   "cell_type": "code",
   "execution_count": 6,
   "id": "7622cbbf-29a8-4ab7-9664-ea8692df6e01",
   "metadata": {},
   "outputs": [],
   "source": [
    "n = len(nameList)\n",
    "products = {}\n",
    "for i in range(n):\n",
    "    products[nameList[i]] = priceList[i]\n",
    "# products"
   ]
  },
  {
   "cell_type": "code",
   "execution_count": 7,
   "id": "653f649f-d3b4-4c6c-96f7-661cd5e67085",
   "metadata": {},
   "outputs": [],
   "source": [
    "result = {}\n",
    "result['Amazon'] =  products"
   ]
  },
  {
   "cell_type": "code",
   "execution_count": 8,
   "id": "e9566a55-a10f-4549-9c88-d30da2831f9f",
   "metadata": {},
   "outputs": [
    {
     "data": {
      "text/plain": [
       "{'Amazon': {'CHUWI Herobox Mini PC, 8GB LPDDR4/256GB Intel Celeron J4125 Windows 10 Mini Desktop PC, Supports Win 11, 2.4G/5G Dual WiFi, Typ-C, HDMI, Gigabit Ethernet, BT 4.2, 4KHD, VESA Mount Mini Business PC': '£189.00',\n",
       "  'Dell OptiPlex 9020 Mini Tower MT Desktop Office PC Intel i5 4690 3.50 GHz 32GB Ram 500GB SSD 6TB HDD Windows 10 Pro (Renewed)': '£430.00',\n",
       "  'Lenovo ThinkCentre M710q Tiny Business PC Core i5 (6400T) 2.20GHz 8GB 256GB SSD Windows 10 Pro 10MQS8F900 (Renewed)': '£459.75',\n",
       "  'Lenovo ThinkCentre M900 TINY Desktop Quad Core i5-8GB RAM - 256GB SSD - W10 Pro (Renewed)': '£149.00',\n",
       "  'Lenovo ThinkCentre M720q Tiny Mini PC Intel Core i5-8400T 8GB DDR4 256GB SSD Windows 10 Pro 64 10T7004BUK (Renewed)': '£339.99',\n",
       "  'Lenovo ThinkCentre M92p SFF Quad Core i5-3470 8GB 250GB DVD WiFi Windows 10 Professional 64Bit Desktop PC Computer (Renewed)': '£266.92',\n",
       "  'Mini PC Windows 11 Pro AMD Ryzen 9 5900HX 8 Cores 32GB RAM 512GB PCle SSD, Support 2 x 2.5 inch HDD/SSD, 2 x HDMI/ 2 x DisplayPort, 1 x 2.5G RJ45, 5 x USB 3.0, 1 x USB-C, 2 x Line Out': '£285.00',\n",
       "  'Lenovo ThinkCentre M70t Tower Desktop - Intel Core i5-10400 (6 Cores, 4.3GHz), 16GB DDR4, 512GB SSD, Intel UHD Graphics 630, WiFi 11ac & BT 5, Windows 10 Pro - 11EV000EUK (Renewed)': '£399.99',\n",
       "  'Lenovo ThinkCentre neo 50s DDR4-SDRAM i5-12400 CFF Intel® Core™ i5 8 GB 256 GB SSD Windows 11 Pro PC Black': '£549.00',\n",
       "  'Lenovo ThinkCentre M70s Core i7-10700 8GB 256GB SSD Windoes 10 Pro Desktop PC': '£575.96',\n",
       "  'Lenovo ThinkCentre NEO 50S Core i5-12400 16GB 512GB SSD Windows 11 Pro 64 Desktop PC': '£599.98',\n",
       "  'Mini PC Fanless 12th Gen in-tel J6412 Processor, 8G DDR4 256G M.2 SSD Office Home Mini Computer, Desktop PC with Windows 11 pro, 2 x HDMI+1 x DP Triple Display/ 2xLan/ 2xRS232 COM/WiFi/BT 4.2': '£574.95',\n",
       "  'HISTTON Firewall Micro Appliance Fanless Mini PC 4 LAN Quad Core Celeron J4125 Firewall PC 4GB RAM 128GB SSD, OPNsense Mini Firewall, HDMI, WiFI, BT4.0, AES-NI, Mini PC Server VPN Router': '£699.00',\n",
       "  'Lenovo ThinkCentre M58p Small Desktop (intel E8400 Core 2 Duo Processor)': '£89.99',\n",
       "  'Lenovo ThinkCentre M720Q Tiny Intel Core i5 9400T (6 Core, 3.40 GHz), 16GB DDR4 RAM, 512GB SSD, Intel UHD Graphics 630, Windows 10 Pro - 10T700AFUK': '£799.99',\n",
       "  'Lenovo ThinkCentre M920x 8th gen Intel® Core™ i7 i7-8700 16 GB DDR4-SDRAM 512 GB SSD Black Mini PC': '£679.99',\n",
       "  'Lenovo ThinkCentre M700 2.7GHz i5-6400 SFF Black PC (Renewed)': '£489.99',\n",
       "  'Fanless Mini PC 2 Lan Windows 10 Pro/Linux,Core i5 7200U 4K Micro-Desktop-Computer,HDMI+DP,Dual Band WiFi,Bluetooth,VESA Montieren,16G RAM 256G SSD': '£574.95',\n",
       "  'Lenovo ThinkCentre M720S SFF Office PC i5 8400 16GB RAM 512GB SSD Windows 10 Pro ( Windows 11 Compatible PC ) 10ST007EUK (Renewed)': '£575.96',\n",
       "  'Lenovo ThinkCentre M70q Gen 2 Mini PC, Intel Core i5, 8GB RAM, Windows 10 Pro': '£282.00',\n",
       "  'Lenovo ThinkCentre Workstation PC M900 SFF i5-6400 16GB RAM 480GB SSD Windows 10 Pro (Renewed)': '£295.00',\n",
       "  'ThinkCentre M700 TINY Core i5-6400T 2.20GHz 8GB 120GB SSD W10 Pro (Certified Refurbished)': '£295.00',\n",
       "  'Micro Computer Intel 11th Generation Processors N5100 Mini PC W11, 8G DDR4 256G M.2 SSD 2280 TRIGKEY Green G3 Desktop PC, Support Micro PC W10 Pro Dual 4K@60Hz HDMI/WiFi 5/BT 4.0/W11': '£519.00'}}"
      ]
     },
     "execution_count": 8,
     "metadata": {},
     "output_type": "execute_result"
    }
   ],
   "source": [
    "result"
   ]
  },
  {
   "cell_type": "code",
   "execution_count": 9,
   "id": "23e5f08d-d779-4b15-8517-c7867392210a",
   "metadata": {},
   "outputs": [],
   "source": [
    "def getData(url):\n",
    "    HEADERS = {'user-agent': 'Mozilla/5.0 (Macintosh; Intel Mac OS X 13_0) AppleWebKit/537.36 (KHTML, like Gecko) Chrome/106.0.0.0 Safari/537.36'}\n",
    "    webpage = requests.get(url, headers=HEADERS)\n",
    "    soup = BeautifulSoup(webpage.content, \"lxml\")\n",
    "    return soup\n",
    "\n",
    "def scrapeAmazonProducts(bs):\n",
    "    # Scrape product names\n",
    "    names = bs.findAll('span',{'class':'a-size-medium a-color-base a-text-normal'})\n",
    "    nameList = []\n",
    "    for name in names:\n",
    "        nameList.append(name.get_text())\n",
    "    # Scrape product prices\n",
    "    prices = bs.findAll('span',{'class':'a-offscreen'})\n",
    "    priceList = []\n",
    "    for price in prices:\n",
    "        priceList.append(price.get_text())\n",
    "    # Store scraped data in a dictionary\n",
    "    n = len(nameList)\n",
    "    products = {}\n",
    "    for i in range(n):\n",
    "        products[nameList[i]] = priceList[i]\n",
    "    result['Amazon'] =  products\n",
    "    return result\n",
    "    \n",
    "url2 = 'https://www.techbuyer.com/uk/catalogsearch/result/?q=+lenovo+thinkcentre&_gl=1*d60se4*_up*MQ..&gclid=CjwKCAiAvK2bBhB8EiwAZUbP1IyuVi11ty-uwj4fZQzNqwzROCdr7AtUmd_snmlY_EDDMbeUSq4ilRoCaRUQAvD_BwE'\n",
    "bs = getData(url2)\n",
    "# def scrapeTechbuyer(bs):\n",
    "#     # Scrape product names\n",
    "#     names = bs.findAll('a',{'class':'products__item-link'})\n",
    "#     nameList = []\n",
    "#     for name in names:\n",
    "#         nameList.append(name.get_text())"
   ]
  },
  {
   "cell_type": "code",
   "execution_count": 10,
   "id": "1b558188-dee9-480e-ad0c-19e173e12401",
   "metadata": {},
   "outputs": [
    {
     "data": {
      "text/plain": [
       "['\\n                                                                Lenovo Thinkcentre M710S SFF I5-7400 8GB 256GB SSD Windows 10 Pro B Grade                            ',\n",
       " '\\n                                                                Lenovo Thinkcentre M720Q I5-9400T 8GB 256GB SSD WiFi Windows 10 ProB Grade                            ',\n",
       " '\\n                                                                IBM Lenovo ThinkCentre M57 Heatsink Fan Assembly                            ',\n",
       " '\\n                                                                IBM Lenovo ThinkCentre M57 HeatSink Fan Assembly                             ',\n",
       " '\\n                                                                Lenovo Solid State Drive 120GB MLC SATA                            ',\n",
       " '\\n                                                                Lenovo Hard Drive 146GB 15K SAS                            ',\n",
       " '\\n                                                                Lenovo Hard Drive 600GB 15K SAS                            ',\n",
       " '\\n                                                                Lenovo Hard Drive 600GB 15K SAS                            ',\n",
       " '\\n                                                                Lenovo 300GB 15K SAS Hard Drive                            ',\n",
       " '\\n                                                                Lenovo 600GB 15K SAS Hard Drive                            ',\n",
       " '\\n                                                                Lenovo Hard Drive 600GB 15K 512 DP SAS                            ',\n",
       " '\\n                                                                Lenovo 1.2TB Hard Drive 10K SAS                            ',\n",
       " '\\n                                                                Lenovo 1.2TB 10K SAS Hard Drive                            ',\n",
       " '\\n                                                                Lenovo 1.2TB Hard Drve 10k SAS                            ',\n",
       " '\\n                                                                Lenovo Hard Drive 300GB 10K SAS                            ',\n",
       " '\\n                                                                Lenovo Solid State Drive 120GB MLC SATA                            ',\n",
       " '\\n                                                                Lenovo 300GB 15K SAS Hard Drive                            ',\n",
       " '\\n                                                                Lenovo Solid State Drive 400GB SAS                            ',\n",
       " '\\n                                                                Lenovo 600GB Hard Drive 15k SAS                            ',\n",
       " '\\n                                                                Lenovo Solid State Drive 400GB SAS                            ']"
      ]
     },
     "execution_count": 10,
     "metadata": {},
     "output_type": "execute_result"
    }
   ],
   "source": [
    "# Scrape product names\n",
    "names = bs.findAll('a',{'class':'products__item-link'})\n",
    "nameList = []\n",
    "for name in names:\n",
    "    nameList.append(name.get_text())\n",
    "nameList"
   ]
  },
  {
   "cell_type": "code",
   "execution_count": 11,
   "id": "77f837d2-0298-4b21-96bd-f268f51655ae",
   "metadata": {},
   "outputs": [
    {
     "data": {
      "text/plain": [
       "['Lenovo Thinkcentre M710S SFF I5-7400 8GB 256GB SSD Windows 10 Pro B Grade',\n",
       " 'Lenovo Thinkcentre M720Q I5-9400T 8GB 256GB SSD WiFi Windows 10 ProB Grade',\n",
       " 'IBM Lenovo ThinkCentre M57 Heatsink Fan Assembly',\n",
       " 'IBM Lenovo ThinkCentre M57 HeatSink Fan Assembly',\n",
       " 'Lenovo Solid State Drive 120GB MLC SATA',\n",
       " 'Lenovo Hard Drive 146GB 15K SAS',\n",
       " 'Lenovo Hard Drive 600GB 15K SAS',\n",
       " 'Lenovo Hard Drive 600GB 15K SAS',\n",
       " 'Lenovo 300GB 15K SAS Hard Drive',\n",
       " 'Lenovo 600GB 15K SAS Hard Drive',\n",
       " 'Lenovo Hard Drive 600GB 15K 512 DP SAS',\n",
       " 'Lenovo 1.2TB Hard Drive 10K SAS',\n",
       " 'Lenovo 1.2TB 10K SAS Hard Drive',\n",
       " 'Lenovo 1.2TB Hard Drve 10k SAS',\n",
       " 'Lenovo Hard Drive 300GB 10K SAS',\n",
       " 'Lenovo Solid State Drive 120GB MLC SATA',\n",
       " 'Lenovo 300GB 15K SAS Hard Drive',\n",
       " 'Lenovo Solid State Drive 400GB SAS',\n",
       " 'Lenovo 600GB Hard Drive 15k SAS',\n",
       " 'Lenovo Solid State Drive 400GB SAS']"
      ]
     },
     "execution_count": 11,
     "metadata": {},
     "output_type": "execute_result"
    }
   ],
   "source": [
    "temp = []\n",
    "for n in nameList:\n",
    "    temp.append(n.strip())\n",
    "nameList = temp\n",
    "nameList"
   ]
  },
  {
   "cell_type": "code",
   "execution_count": 12,
   "id": "2b686a1f-9552-4de6-9353-35fa5c167955",
   "metadata": {},
   "outputs": [
    {
     "data": {
      "text/plain": [
       "{'Amazon': {'CHUWI Herobox Mini PC, 8GB LPDDR4/256GB Intel Celeron J4125 Windows 10 Mini Desktop PC, Supports Win 11, 2.4G/5G Dual WiFi, Typ-C, HDMI, Gigabit Ethernet, BT 4.2, 4KHD, VESA Mount Mini Business PC': '£189.00',\n",
       "  'Dell OptiPlex 9020 Mini Tower MT Desktop Office PC Intel i5 4690 3.50 GHz 32GB Ram 500GB SSD 6TB HDD Windows 10 Pro (Renewed)': '£430.00',\n",
       "  'Lenovo ThinkCentre M710q Tiny Business PC Core i5 (6400T) 2.20GHz 8GB 256GB SSD Windows 10 Pro 10MQS8F900 (Renewed)': '£459.75',\n",
       "  'Lenovo ThinkCentre M900 TINY Desktop Quad Core i5-8GB RAM - 256GB SSD - W10 Pro (Renewed)': '£149.00',\n",
       "  'Lenovo ThinkCentre M720q Tiny Mini PC Intel Core i5-8400T 8GB DDR4 256GB SSD Windows 10 Pro 64 10T7004BUK (Renewed)': '£339.99',\n",
       "  'Lenovo ThinkCentre M92p SFF Quad Core i5-3470 8GB 250GB DVD WiFi Windows 10 Professional 64Bit Desktop PC Computer (Renewed)': '£266.92',\n",
       "  'Mini PC Windows 11 Pro AMD Ryzen 9 5900HX 8 Cores 32GB RAM 512GB PCle SSD, Support 2 x 2.5 inch HDD/SSD, 2 x HDMI/ 2 x DisplayPort, 1 x 2.5G RJ45, 5 x USB 3.0, 1 x USB-C, 2 x Line Out': '£285.00',\n",
       "  'Lenovo ThinkCentre M70t Tower Desktop - Intel Core i5-10400 (6 Cores, 4.3GHz), 16GB DDR4, 512GB SSD, Intel UHD Graphics 630, WiFi 11ac & BT 5, Windows 10 Pro - 11EV000EUK (Renewed)': '£399.99',\n",
       "  'Lenovo ThinkCentre neo 50s DDR4-SDRAM i5-12400 CFF Intel® Core™ i5 8 GB 256 GB SSD Windows 11 Pro PC Black': '£549.00',\n",
       "  'Lenovo ThinkCentre M70s Core i7-10700 8GB 256GB SSD Windoes 10 Pro Desktop PC': '£575.96',\n",
       "  'Lenovo ThinkCentre NEO 50S Core i5-12400 16GB 512GB SSD Windows 11 Pro 64 Desktop PC': '£599.98',\n",
       "  'Mini PC Fanless 12th Gen in-tel J6412 Processor, 8G DDR4 256G M.2 SSD Office Home Mini Computer, Desktop PC with Windows 11 pro, 2 x HDMI+1 x DP Triple Display/ 2xLan/ 2xRS232 COM/WiFi/BT 4.2': '£574.95',\n",
       "  'HISTTON Firewall Micro Appliance Fanless Mini PC 4 LAN Quad Core Celeron J4125 Firewall PC 4GB RAM 128GB SSD, OPNsense Mini Firewall, HDMI, WiFI, BT4.0, AES-NI, Mini PC Server VPN Router': '£699.00',\n",
       "  'Lenovo ThinkCentre M58p Small Desktop (intel E8400 Core 2 Duo Processor)': '£89.99',\n",
       "  'Lenovo ThinkCentre M720Q Tiny Intel Core i5 9400T (6 Core, 3.40 GHz), 16GB DDR4 RAM, 512GB SSD, Intel UHD Graphics 630, Windows 10 Pro - 10T700AFUK': '£799.99',\n",
       "  'Lenovo ThinkCentre M920x 8th gen Intel® Core™ i7 i7-8700 16 GB DDR4-SDRAM 512 GB SSD Black Mini PC': '£679.99',\n",
       "  'Lenovo ThinkCentre M700 2.7GHz i5-6400 SFF Black PC (Renewed)': '£489.99',\n",
       "  'Fanless Mini PC 2 Lan Windows 10 Pro/Linux,Core i5 7200U 4K Micro-Desktop-Computer,HDMI+DP,Dual Band WiFi,Bluetooth,VESA Montieren,16G RAM 256G SSD': '£574.95',\n",
       "  'Lenovo ThinkCentre M720S SFF Office PC i5 8400 16GB RAM 512GB SSD Windows 10 Pro ( Windows 11 Compatible PC ) 10ST007EUK (Renewed)': '£575.96',\n",
       "  'Lenovo ThinkCentre M70q Gen 2 Mini PC, Intel Core i5, 8GB RAM, Windows 10 Pro': '£282.00',\n",
       "  'Lenovo ThinkCentre Workstation PC M900 SFF i5-6400 16GB RAM 480GB SSD Windows 10 Pro (Renewed)': '£295.00',\n",
       "  'ThinkCentre M700 TINY Core i5-6400T 2.20GHz 8GB 120GB SSD W10 Pro (Certified Refurbished)': '£295.00',\n",
       "  'Micro Computer Intel 11th Generation Processors N5100 Mini PC W11, 8G DDR4 256G M.2 SSD 2280 TRIGKEY Green G3 Desktop PC, Support Micro PC W10 Pro Dual 4K@60Hz HDMI/WiFi 5/BT 4.0/W11': '£519.00'},\n",
       " 'Techbuyer': {'Lenovo Thinkcentre M710S SFF I5-7400 8GB 256GB SSD Windows 10 Pro B Grade': '£138.13',\n",
       "  'Lenovo Thinkcentre M720Q I5-9400T 8GB 256GB SSD WiFi Windows 10 ProB Grade': '£165.76',\n",
       "  'IBM Lenovo ThinkCentre M57 Heatsink Fan Assembly': '£345.31',\n",
       "  'IBM Lenovo ThinkCentre M57 HeatSink Fan Assembly': '£414.37',\n",
       "  'Lenovo Solid State Drive 120GB MLC SATA': '£95.63',\n",
       "  'Lenovo Hard Drive 146GB 15K SAS': '£24.23',\n",
       "  'Lenovo Hard Drive 600GB 15K SAS': '£24.23',\n",
       "  'Lenovo 300GB 15K SAS Hard Drive': '£132.81',\n",
       "  'Lenovo 600GB 15K SAS Hard Drive': '£63.76',\n",
       "  'Lenovo Hard Drive 600GB 15K 512 DP SAS': '£28.69',\n",
       "  'Lenovo 1.2TB Hard Drive 10K SAS': '£34.43',\n",
       "  'Lenovo 1.2TB 10K SAS Hard Drive': '£79.69',\n",
       "  'Lenovo 1.2TB Hard Drve 10k SAS': '£95.63',\n",
       "  'Lenovo Hard Drive 300GB 10K SAS': '£79.69',\n",
       "  'Lenovo Solid State Drive 400GB SAS': '£51.00',\n",
       "  'Lenovo 600GB Hard Drive 15k SAS': '£42.50'}}"
      ]
     },
     "execution_count": 12,
     "metadata": {},
     "output_type": "execute_result"
    }
   ],
   "source": [
    "# Scrape product prices\n",
    "prices = bs.findAll('span',{'class':'price'})\n",
    "priceList = []\n",
    "for price in prices:\n",
    "    priceList.append(price.get_text())\n",
    "# Store scraped data in a dictionary\n",
    "n = len(nameList)\n",
    "products = {}\n",
    "for i in range(n):\n",
    "    products[nameList[i]] = priceList[i]\n",
    "result['Techbuyer'] =  products\n",
    "result"
   ]
  },
  {
   "cell_type": "code",
   "execution_count": 13,
   "id": "a0385e49-594a-416a-921a-4937beb8e49a",
   "metadata": {},
   "outputs": [
    {
     "name": "stdout",
     "output_type": "stream",
     "text": [
      "{'Amazon': {'CHUWI Herobox Mini PC, 8GB LPDDR4/256GB Intel Celeron J4125 Windows 10 Mini Desktop PC, Supports Win 11, 2.4G/5G Dual WiFi, Typ-C, HDMI, Gigabit Ethernet, BT 4.2, 4KHD, VESA Mount Mini Business PC': '£189.00', 'Dell OptiPlex 9020 Mini Tower MT Desktop Office PC Intel i5 4690 3.50 GHz 32GB Ram 500GB SSD 6TB HDD Windows 10 Pro (Renewed)': '£430.00', 'Lenovo ThinkCentre M710q Tiny Business PC Core i5 (6400T) 2.20GHz 8GB 256GB SSD Windows 10 Pro 10MQS8F900 (Renewed)': '£459.75', 'Lenovo ThinkCentre M900 TINY Desktop Quad Core i5-8GB RAM - 256GB SSD - W10 Pro (Renewed)': '£149.00', 'Lenovo ThinkCentre M720q Tiny Mini PC Intel Core i5-8400T 8GB DDR4 256GB SSD Windows 10 Pro 64 10T7004BUK (Renewed)': '£339.99', 'Lenovo ThinkCentre M92p SFF Quad Core i5-3470 8GB 250GB DVD WiFi Windows 10 Professional 64Bit Desktop PC Computer (Renewed)': '£266.92', 'Mini PC Windows 11 Pro AMD Ryzen 9 5900HX 8 Cores 32GB RAM 512GB PCle SSD, Support 2 x 2.5 inch HDD/SSD, 2 x HDMI/ 2 x DisplayPort, 1 x 2.5G RJ45, 5 x USB 3.0, 1 x USB-C, 2 x Line Out': '£285.00', 'Lenovo ThinkCentre M70t Tower Desktop - Intel Core i5-10400 (6 Cores, 4.3GHz), 16GB DDR4, 512GB SSD, Intel UHD Graphics 630, WiFi 11ac & BT 5, Windows 10 Pro - 11EV000EUK (Renewed)': '£399.99', 'Lenovo ThinkCentre neo 50s DDR4-SDRAM i5-12400 CFF Intel® Core™ i5 8 GB 256 GB SSD Windows 11 Pro PC Black': '£549.00', 'Lenovo ThinkCentre M70s Core i7-10700 8GB 256GB SSD Windoes 10 Pro Desktop PC': '£575.96', 'Lenovo ThinkCentre NEO 50S Core i5-12400 16GB 512GB SSD Windows 11 Pro 64 Desktop PC': '£599.98', 'Mini PC Fanless 12th Gen in-tel J6412 Processor, 8G DDR4 256G M.2 SSD Office Home Mini Computer, Desktop PC with Windows 11 pro, 2 x HDMI+1 x DP Triple Display/ 2xLan/ 2xRS232 COM/WiFi/BT 4.2': '£574.95', 'HISTTON Firewall Micro Appliance Fanless Mini PC 4 LAN Quad Core Celeron J4125 Firewall PC 4GB RAM 128GB SSD, OPNsense Mini Firewall, HDMI, WiFI, BT4.0, AES-NI, Mini PC Server VPN Router': '£699.00', 'Lenovo ThinkCentre M58p Small Desktop (intel E8400 Core 2 Duo Processor)': '£89.99', 'Lenovo ThinkCentre M720Q Tiny Intel Core i5 9400T (6 Core, 3.40 GHz), 16GB DDR4 RAM, 512GB SSD, Intel UHD Graphics 630, Windows 10 Pro - 10T700AFUK': '£799.99', 'Lenovo ThinkCentre M920x 8th gen Intel® Core™ i7 i7-8700 16 GB DDR4-SDRAM 512 GB SSD Black Mini PC': '£679.99', 'Lenovo ThinkCentre M700 2.7GHz i5-6400 SFF Black PC (Renewed)': '£489.99', 'Fanless Mini PC 2 Lan Windows 10 Pro/Linux,Core i5 7200U 4K Micro-Desktop-Computer,HDMI+DP,Dual Band WiFi,Bluetooth,VESA Montieren,16G RAM 256G SSD': '£574.95', 'Lenovo ThinkCentre M720S SFF Office PC i5 8400 16GB RAM 512GB SSD Windows 10 Pro ( Windows 11 Compatible PC ) 10ST007EUK (Renewed)': '£575.96', 'Lenovo ThinkCentre M70q Gen 2 Mini PC, Intel Core i5, 8GB RAM, Windows 10 Pro': '£282.00', 'Lenovo ThinkCentre Workstation PC M900 SFF i5-6400 16GB RAM 480GB SSD Windows 10 Pro (Renewed)': '£295.00', 'ThinkCentre M700 TINY Core i5-6400T 2.20GHz 8GB 120GB SSD W10 Pro (Certified Refurbished)': '£295.00', 'Micro Computer Intel 11th Generation Processors N5100 Mini PC W11, 8G DDR4 256G M.2 SSD 2280 TRIGKEY Green G3 Desktop PC, Support Micro PC W10 Pro Dual 4K@60Hz HDMI/WiFi 5/BT 4.0/W11': '£519.00'}, 'Techbuyer': {'Lenovo Thinkcentre M710S SFF I5-7400 8GB 256GB SSD Windows 10 Pro B Grade': '£138.13', 'Lenovo Thinkcentre M720Q I5-9400T 8GB 256GB SSD WiFi Windows 10 ProB Grade': '£165.76', 'IBM Lenovo ThinkCentre M57 Heatsink Fan Assembly': '£345.31', 'IBM Lenovo ThinkCentre M57 HeatSink Fan Assembly': '£414.37', 'Lenovo Solid State Drive 120GB MLC SATA': '£95.63', 'Lenovo Hard Drive 146GB 15K SAS': '£24.23', 'Lenovo Hard Drive 600GB 15K SAS': '£24.23', 'Lenovo 300GB 15K SAS Hard Drive': '£132.81', 'Lenovo 600GB 15K SAS Hard Drive': '£63.76', 'Lenovo Hard Drive 600GB 15K 512 DP SAS': '£28.69', 'Lenovo 1.2TB Hard Drive 10K SAS': '£34.43', 'Lenovo 1.2TB 10K SAS Hard Drive': '£79.69', 'Lenovo 1.2TB Hard Drve 10k SAS': '£95.63', 'Lenovo Hard Drive 300GB 10K SAS': '£79.69', 'Lenovo Solid State Drive 400GB SAS': '£51.00', 'Lenovo 600GB Hard Drive 15k SAS': '£42.50'}}\n"
     ]
    }
   ],
   "source": [
    "def scrapeTechbuyer(bs):\n",
    "    # Scrape product names\n",
    "    names = bs.findAll('a',{'class':'products__item-link'})\n",
    "    nameList = []\n",
    "    for name in names:\n",
    "        nameList.append(name.get_text())\n",
    "    # Delete the \"\\n\"\n",
    "    temp = []\n",
    "    for n in nameList:\n",
    "        temp.append(n.strip())\n",
    "    nameList = temp\n",
    "    \n",
    "    # Scrape product prices\n",
    "    prices = bs.findAll('span',{'class':'price'})\n",
    "    priceList = []\n",
    "    for price in prices:\n",
    "        priceList.append(price.get_text())\n",
    "    # Store scraped data in a dictionary\n",
    "    n = len(nameList)\n",
    "    products = {}\n",
    "    for i in range(n):\n",
    "        products[nameList[i]] = priceList[i]\n",
    "    result['Techbuyer'] =  products\n",
    "    return result\n",
    "\n",
    "bs2 = getData(url2)\n",
    "print(scrapeTechbuyer(bs2))\n",
    "    "
   ]
  },
  {
   "cell_type": "code",
   "execution_count": 14,
   "id": "7bbab928-5294-4a59-82bf-94b0c0328cf7",
   "metadata": {},
   "outputs": [
    {
     "data": {
      "text/plain": [
       "'https://www.amazon.com/s?k=Lenovo+ThinkCentre'"
      ]
     },
     "execution_count": 14,
     "metadata": {},
     "output_type": "execute_result"
    }
   ],
   "source": [
    "# Generate Amazon URL from query\n",
    "query = 'Lenovo ThinkCentre'\n",
    "query = query.replace(' ', '+')\n",
    "url1 = 'https://www.amazon.com/s?k=' + query\n",
    "url1"
   ]
  },
  {
   "cell_type": "code",
   "execution_count": 15,
   "id": "3c6c6996-8455-481b-8a8e-c62623e5dcea",
   "metadata": {},
   "outputs": [
    {
     "data": {
      "text/plain": [
       "'https://www.techbuyer.com/uk/catalogsearch/result/?q=Lenovo+ThinkCentre'"
      ]
     },
     "execution_count": 15,
     "metadata": {},
     "output_type": "execute_result"
    }
   ],
   "source": [
    "# Generate TechBuyer URL from query\n",
    "# https://www.techbuyer.com/uk/catalogsearch/result/?q=lenovo+thinkcentre\n",
    "url2 = 'https://www.techbuyer.com/uk/catalogsearch/result/?q=' + query\n",
    "url2"
   ]
  },
  {
   "cell_type": "code",
   "execution_count": 16,
   "id": "d1b9bb5c-e31e-4236-b9ab-d4a845a194fe",
   "metadata": {},
   "outputs": [
    {
     "data": {
      "text/plain": [
       "('https://www.amazon.com/s?k=Lenovo+ThinkCentre',\n",
       " 'https://www.techbuyer.com/uk/catalogsearch/result/?q=Lenovo+ThinkCentre')"
      ]
     },
     "execution_count": 16,
     "metadata": {},
     "output_type": "execute_result"
    }
   ],
   "source": [
    "def generateUrl(query):\n",
    "    # Generate Amazon URL from query\n",
    "    query = query.replace(' ', '+')\n",
    "    url1 = 'https://www.amazon.com/s?k=' + query\n",
    "    # Generate TechBuyer URL from query\n",
    "    # e.g. https://www.techbuyer.com/uk/catalogsearch/result/?q=lenovo+thinkcentre\n",
    "    url2 = 'https://www.techbuyer.com/uk/catalogsearch/result/?q=' + query\n",
    "    return url1, url2\n",
    "generateUrl(query)"
   ]
  },
  {
   "cell_type": "code",
   "execution_count": null,
   "id": "3d764ecf-250e-4e7f-9a73-0fd291c57e0a",
   "metadata": {},
   "outputs": [],
   "source": []
  }
 ],
 "metadata": {
  "kernelspec": {
   "display_name": "Python 3",
   "language": "python",
   "name": "python3"
  },
  "language_info": {
   "codemirror_mode": {
    "name": "ipython",
    "version": 3
   },
   "file_extension": ".py",
   "mimetype": "text/x-python",
   "name": "python",
   "nbconvert_exporter": "python",
   "pygments_lexer": "ipython3",
   "version": "3.8.8"
  }
 },
 "nbformat": 4,
 "nbformat_minor": 5
}
