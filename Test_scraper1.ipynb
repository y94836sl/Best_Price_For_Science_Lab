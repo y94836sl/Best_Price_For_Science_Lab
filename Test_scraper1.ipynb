{
 "cells": [
  {
   "cell_type": "code",
   "execution_count": 1,
   "id": "0c3d972e-b162-439d-bdf3-d083df9f4474",
   "metadata": {},
   "outputs": [],
   "source": [
    "from bs4 import BeautifulSoup\n",
    "import requests\n",
    "import csv"
   ]
  },
  {
   "cell_type": "code",
   "execution_count": 2,
   "id": "23e5f08d-d779-4b15-8517-c7867392210a",
   "metadata": {},
   "outputs": [],
   "source": [
    "def generateUrl(query):\n",
    "    # Generate Amazon URL from query\n",
    "    query = query.replace(' ', '+')\n",
    "    url1 = 'https://www.amazon.co.uk/s?k=' + query\n",
    "    # Generate TechBuyer URL from query\n",
    "    # e.g. https://www.techbuyer.com/uk/catalogsearch/result/?q=lenovo+thinkcentre\n",
    "    url2 = 'https://www.techbuyer.com/uk/catalogsearch/result/?q=' + query\n",
    "    return url1, url2\n",
    "\n",
    "def scrapeAmazonProducts(url):\n",
    "    HEADERS = {'user-agent': 'Mozilla/5.0 (Macintosh; Intel Mac OS X 13_0) AppleWebKit/537.36 (KHTML, like Gecko) Chrome/106.0.0.0 Safari/537.36'}\n",
    "    webpage = requests.get(url, headers=HEADERS)\n",
    "    bs = BeautifulSoup(webpage.content, \"lxml\")\n",
    "    \n",
    "    # Scrape product names\n",
    "    names = bs.findAll('span',{'class':'a-size-medium a-color-base a-text-normal'})\n",
    "    nameList = []\n",
    "    for name in names:\n",
    "        nameList.append(name.get_text())\n",
    "    # Scrape product prices\n",
    "    prices = bs.findAll('span',{'class':'a-offscreen'})\n",
    "    priceList = []\n",
    "    for price in prices:\n",
    "        priceList.append(price.get_text())\n",
    "\n",
    "    urls = bs.findAll('a',{'class':'a-link-normal s-underline-text s-underline-link-text s-link-style a-text-normal'})\n",
    "    urlList = []\n",
    "    for url in urls:\n",
    "        urlList.append(url.attrs['href'])\n",
    "    # Store scraped data in a dictionary\n",
    "    n = len(nameList)\n",
    "    products = {}\n",
    "    for i in range(n):\n",
    "        details = {}\n",
    "        details['price'] = priceList[i]\n",
    "        details['url'] = urlList[i]\n",
    "\n",
    "        products[nameList[i]] = details\n",
    "    result['Amazon'] =  products\n",
    "    return result\n",
    "\n",
    "def scrapeTechbuyer(url):\n",
    "    HEADERS = {'user-agent': 'Mozilla/5.0 (Macintosh; Intel Mac OS X 13_0) AppleWebKit/537.36 (KHTML, like Gecko) Chrome/106.0.0.0 Safari/537.36'}\n",
    "    webpage = requests.get(url, headers=HEADERS)\n",
    "    bs = BeautifulSoup(webpage.content, \"lxml\")\n",
    "    \n",
    "    # Scrape product names\n",
    "    names = bs.findAll('a',{'class':'products__item-link'})\n",
    "    nameList = []\n",
    "    for name in names:\n",
    "        nameList.append(name.get_text())\n",
    "    # Delete the \"\\n\"\n",
    "    temp = []\n",
    "    for n in nameList:\n",
    "        temp.append(n.strip())\n",
    "    nameList = temp\n",
    "    \n",
    "    # Scrape product prices\n",
    "    prices = bs.findAll('span',{'class':'price'})\n",
    "    priceList = []\n",
    "    for price in prices:\n",
    "        priceList.append(price.get_text())\n",
    "    # Store scraped data in a dictionary\n",
    "    n = len(nameList)\n",
    "    products = {}\n",
    "    for i in range(n):\n",
    "        products[nameList[i]] = priceList[i]\n",
    "    result['Techbuyer'] =  products\n",
    "    return result   \n",
    "# url2 = 'https://www.techbuyer.com/uk/catalogsearch/result/?q=+lenovo+thinkcentre&_gl=1*d60se4*_up*MQ..&gclid=CjwKCAiAvK2bBhB8EiwAZUbP1IyuVi11ty-uwj4fZQzNqwzROCdr7AtUmd_snmlY_EDDMbeUSq4ilRoCaRUQAvD_BwE'"
   ]
  },
  {
   "cell_type": "code",
   "execution_count": 3,
   "id": "56a7c0b5-9d21-4454-a811-a5d9201d423c",
   "metadata": {},
   "outputs": [
    {
     "data": {
      "text/plain": [
       "'https://www.amazon.co.uk/s?k=Lenovo+ThinkCenter'"
      ]
     },
     "execution_count": 3,
     "metadata": {},
     "output_type": "execute_result"
    }
   ],
   "source": [
    "result = {}\n",
    "query = 'Lenovo ThinkCenter'\n",
    "url1, url2 = generateUrl(query)\n",
    "url1"
   ]
  },
  {
   "cell_type": "code",
   "execution_count": 4,
   "id": "f39d61bc-c3cc-4382-91ee-3f61de41fccf",
   "metadata": {},
   "outputs": [
    {
     "data": {
      "text/plain": [
       "{'Amazon': {'upscreen Privacy Screen Filter & Protector compatible with Lenovo ThinkCentre Tiny-In-One 24 (3. Generation) – Anti-Spy, Anti-Glare': {'price': '£101.59',\n",
       "   'url': '/sspa/click?ie=UTF8&spc=MToyMDk4MzQzMTU2ODUxMTQzOjE2Njg0NjMzMzQ6c3BfYXRmOjIwMDc2NjUyMDE0Nzk4OjowOjo&url=%2Fupscreen-Protector-compatible-ThinkCentre-Generation-Privacy%2Fdp%2FB07ZFN9CXL%2Fref%3Dsr_1_1_sspa%3Fkeywords%3Dlenovo%2Bthinkcentre%26qid%3D1668463334%26sr%3D8-1-spons%26sp_csd%3Dd2lkZ2V0TmFtZT1zcF9hdGY%26psc%3D1'},\n",
       "  'Aero 2 Pro Mini PC Desktop Computer Windows 10 Pro Support Windows 11 with Intel N5105 processor (up to 2.9Hz) 8GB LPDDR4 / 256GB SSD HDMI 2.0 4K 60Hz + VGA Dual Display, Dual WiFi, 3 * USB 3.0': {'price': '£239.99',\n",
       "   'url': '/sspa/click?ie=UTF8&spc=MToyMDk4MzQzMTU2ODUxMTQzOjE2Njg0NjMzMzQ6c3BfYXRmOjIwMDYxNzA0Mjk4Nzk4OjowOjo&url=%2FWindows-processor-LPDDR4-Desktop-Display%2Fdp%2FB09K78FR4J%2Fref%3Dsr_1_2_sspa%3Fkeywords%3Dlenovo%2Bthinkcentre%26qid%3D1668463334%26sr%3D8-2-spons%26sp_csd%3Dd2lkZ2V0TmFtZT1zcF9hdGY%26psc%3D1'},\n",
       "  'Lenovo ThinkCentre M710q Tiny Business PC Core i5 (6400T) 2.20GHz 8GB 256GB SSD Windows 10 Pro 10MQS8F900 (Renewed)': {'price': '£149.00',\n",
       "   'url': '/Lenovo-ThinkCentre-Business-2-20GHz-10MQS8F900/dp/B096FQGLDK/ref=sr_1_3?keywords=lenovo+thinkcentre&qid=1668463334&sr=8-3'},\n",
       "  'Lenovo ThinkCentre M720q Tiny Mini PC Intel Core i5-8400T 8GB DDR4 256GB SSD Windows 10 Pro 64 10T7004BUK (Renewed)': {'price': '£266.92',\n",
       "   'url': '/Lenovo-ThinkCentre-i5-8400T-Windows-10T7004BUK/dp/B094129QY1/ref=sr_1_4?keywords=lenovo+thinkcentre&qid=1668463334&sr=8-4'},\n",
       "  'Lenovo ThinkCentre M900 TINY Desktop Quad Core i5-8GB RAM - 256GB SSD - W10 Pro (Renewed)': {'price': '£285.00',\n",
       "   'url': '/Lenovo-ThinkCentre-M900-Desktop-i5-8GB/dp/B089DC2RDN/ref=sr_1_5?keywords=lenovo+thinkcentre&qid=1668463334&sr=8-5'},\n",
       "  'Lenovo ThinkCentre M92p SFF Quad Core i5-3470 8GB 250GB DVD WiFi Windows 10 Professional 64Bit Desktop PC Computer (Renewed)': {'price': '£339.99',\n",
       "   'url': '/Lenovo-ThinkCentre-M75s-2-11R8000GUK-Desktop/dp/B0B4BLK2KP/ref=sxin_13_hcs-la-eu-prod?content-id=amzn1.sym.14e5024e-26e2-40f1-8745-3523fce73153%3Aamzn1.sym.14e5024e-26e2-40f1-8745-3523fce73153&cv_ct_cx=lenovo+thinkcentre&keywords=lenovo+thinkcentre&pd_rd_i=B0B4BLK2KP&pd_rd_r=18bf2275-ad94-4180-8db2-56bd691965eb&pd_rd_w=K2LG1&pd_rd_wg=sYIgT&pf_rd_p=14e5024e-26e2-40f1-8745-3523fce73153&pf_rd_r=R2G0262H7W06R9J8NVN2&qid=1668463334&sr=1-1-ac0bdd50-84e6-4489-b88d-24b84e792074'},\n",
       "  'Mini PC Windows 11 Pro AMD Ryzen 9 5900HX 8 Cores 32GB RAM 512GB PCle SSD, Support 2 x 2.5 inch HDD/SSD, 2 x HDMI/ 2 x DisplayPort, 1 x 2.5G RJ45, 5 x USB 3.0, 1 x USB-C, 2 x Line Out': {'price': '£399.99',\n",
       "   'url': '/Lenovo-ThinkCentre-i5-12400-Windows-Desktop/dp/B0B4WR74X4/ref=sxin_13_hcs-la-eu-prod?content-id=amzn1.sym.14e5024e-26e2-40f1-8745-3523fce73153%3Aamzn1.sym.14e5024e-26e2-40f1-8745-3523fce73153&cv_ct_cx=lenovo+thinkcentre&keywords=lenovo+thinkcentre&pd_rd_i=B0B4WR74X4&pd_rd_r=18bf2275-ad94-4180-8db2-56bd691965eb&pd_rd_w=K2LG1&pd_rd_wg=sYIgT&pf_rd_p=14e5024e-26e2-40f1-8745-3523fce73153&pf_rd_r=R2G0262H7W06R9J8NVN2&qid=1668463334&sr=1-2-ac0bdd50-84e6-4489-b88d-24b84e792074'},\n",
       "  'Lenovo ThinkCentre M70t Tower Desktop - Intel Core i5-10400 (6 Cores, 4.3GHz), 16GB DDR4, 512GB SSD, Intel UHD Graphics 630, WiFi 11ac & BT 5, Windows 10 Pro - 11EV000EUK (Renewed)': {'price': '£549.00',\n",
       "   'url': '/Lenovo-ThinkCentre-M70q-Intel-Windows-Black/dp/B09DSYRSZJ/ref=sxin_13_hcs-la-eu-prod?content-id=amzn1.sym.14e5024e-26e2-40f1-8745-3523fce73153%3Aamzn1.sym.14e5024e-26e2-40f1-8745-3523fce73153&cv_ct_cx=lenovo+thinkcentre&keywords=lenovo+thinkcentre&pd_rd_i=B09DSYRSZJ&pd_rd_r=18bf2275-ad94-4180-8db2-56bd691965eb&pd_rd_w=K2LG1&pd_rd_wg=sYIgT&pf_rd_p=14e5024e-26e2-40f1-8745-3523fce73153&pf_rd_r=R2G0262H7W06R9J8NVN2&qid=1668463334&sr=1-3-ac0bdd50-84e6-4489-b88d-24b84e792074'},\n",
       "  'Lenovo ThinkCentre neo 50s DDR4-SDRAM i5-12400 CFF Intel® Core™ i5 8 GB 256 GB SSD Windows 11 Pro PC Black': {'price': '£575.96',\n",
       "   'url': '/Lenovo-ThinkCentre-i7-10700-Windoes-Desktop/dp/B0B4WN93XK/ref=sxin_13_hcs-la-eu-prod?content-id=amzn1.sym.14e5024e-26e2-40f1-8745-3523fce73153%3Aamzn1.sym.14e5024e-26e2-40f1-8745-3523fce73153&cv_ct_cx=lenovo+thinkcentre&keywords=lenovo+thinkcentre&pd_rd_i=B0B4WN93XK&pd_rd_r=18bf2275-ad94-4180-8db2-56bd691965eb&pd_rd_w=K2LG1&pd_rd_wg=sYIgT&pf_rd_p=14e5024e-26e2-40f1-8745-3523fce73153&pf_rd_r=R2G0262H7W06R9J8NVN2&qid=1668463334&sr=1-4-ac0bdd50-84e6-4489-b88d-24b84e792074'},\n",
       "  'Lenovo ThinkCentre M70s Core i7-10700 8GB 256GB SSD Windoes 10 Pro Desktop PC': {'price': '£599.98',\n",
       "   'url': '/Lenovo-ThinkCentre-Graphics-Keyboard-included/dp/B0B4X7PB9Y/ref=sxin_13_hcs-la-eu-prod?content-id=amzn1.sym.14e5024e-26e2-40f1-8745-3523fce73153%3Aamzn1.sym.14e5024e-26e2-40f1-8745-3523fce73153&cv_ct_cx=lenovo+thinkcentre&keywords=lenovo+thinkcentre&pd_rd_i=B0B4X7PB9Y&pd_rd_r=18bf2275-ad94-4180-8db2-56bd691965eb&pd_rd_w=K2LG1&pd_rd_wg=sYIgT&pf_rd_p=14e5024e-26e2-40f1-8745-3523fce73153&pf_rd_r=R2G0262H7W06R9J8NVN2&qid=1668463334&sr=1-5-ac0bdd50-84e6-4489-b88d-24b84e792074'},\n",
       "  'Lenovo ThinkCentre NEO 50S Core i5-12400 16GB 512GB SSD Windows 11 Pro 64 Desktop PC': {'price': '£574.95',\n",
       "   'url': '/Lenovo-ThinkCentre-Professional-Certified-Refurbished/dp/B07CSSLZKM/ref=sr_1_6?keywords=lenovo+thinkcentre&qid=1668463334&sr=8-6'},\n",
       "  'Lenovo ThinkCentre M58p Small Desktop (intel E8400 Core 2 Duo Processor)': {'price': '£699.00',\n",
       "   'url': '/sspa/click?ie=UTF8&spc=MToyMDk4MzQzMTU2ODUxMTQzOjE2Njg0NjMzMzQ6c3BfbXRmOjIwMDU2MzM2Nzg3Mzk4OjowOjo&url=%2FWindows-Ryzen-5900HX-Support-DisplayPort%2Fdp%2FB0B1T5B7S2%2Fref%3Dsr_1_7_sspa%3Fkeywords%3Dlenovo%2Bthinkcentre%26qid%3D1668463334%26sr%3D8-7-spons%26sp_csd%3Dd2lkZ2V0TmFtZT1zcF9tdGY%26psc%3D1'},\n",
       "  'HISTTON Firewall Micro Appliance Fanless Mini PC 4 LAN Quad Core Celeron J4125 Firewall PC 4GB RAM 128GB SSD, OPNsense Mini Firewall, HDMI, WiFI, BT4.0, AES-NI, Mini PC Server VPN Router': {'price': '£89.99',\n",
       "   'url': '/Lenovo-ThinkCentre-M70t-Tower-Desktop/dp/B09JSV1B4S/ref=sr_1_8?keywords=lenovo+thinkcentre&qid=1668463334&sr=8-8'},\n",
       "  'Lenovo ThinkCentre M720Q Tiny Intel Core i5 9400T (6 Core, 3.40 GHz), 16GB DDR4 RAM, 512GB SSD, Intel UHD Graphics 630, Windows 10 Pro - 10T700AFUK': {'price': '£799.99',\n",
       "   'url': '/Lenovo-ThinkCentre-DDR4-SDRAM-i5-12400-Windows/dp/B0B3NH3X5F/ref=sr_1_9?keywords=lenovo+thinkcentre&qid=1668463334&sr=8-9'},\n",
       "  'Lenovo ThinkCentre M920x 8th gen Intel® Core™ i7 i7-8700 16 GB DDR4-SDRAM 512 GB SSD Black Mini PC': {'price': '£679.99',\n",
       "   'url': '/Lenovo-ThinkCentre-i7-10700-Windoes-Desktop/dp/B0B4WN93XK/ref=sr_1_10?keywords=lenovo+thinkcentre&qid=1668463334&sr=8-10'},\n",
       "  'Lenovo ThinkCentre M700 2.7GHz i5-6400 SFF Black PC (Renewed)': {'price': '£489.99',\n",
       "   'url': '/Lenovo-ThinkCentre-i5-12400-Windows-Desktop/dp/B0B4WR74X4/ref=sr_1_11?keywords=lenovo+thinkcentre&qid=1668463334&sr=8-11'},\n",
       "  'Lenovo ThinkCentre M720S SFF Office PC i5 8400 16GB RAM 512GB SSD Windows 10 Pro ( Windows 11 Compatible PC ) 10ST007EUK (Renewed)': {'price': '£574.95',\n",
       "   'url': '/Lenovo-ThinkCentre-Small-Desktop-Processor/dp/B002TMO0L2/ref=sr_1_12?keywords=lenovo+thinkcentre&qid=1668463334&sr=8-12'},\n",
       "  'Fanless Mini PC 2 Lan Windows 10 Pro/Linux,Core i5 7200U 4K Micro-Desktop-Computer,HDMI+DP,Dual Band WiFi,Bluetooth,VESA Montieren,16G RAM 256G SSD': {'price': '£575.96',\n",
       "   'url': '/sspa/click?ie=UTF8&spc=MToyMDk4MzQzMTU2ODUxMTQzOjE2Njg0NjMzMzQ6c3BfbXRmOjIwMDczMjIwODM4ODk4OjowOjo&url=%2FHISTTON-Firewall-Appliance-Fanless-OPNsense%2Fdp%2FB0B8JP1X1V%2Fref%3Dsr_1_13_sspa%3Fkeywords%3Dlenovo%2Bthinkcentre%26qid%3D1668463334%26sr%3D8-13-spons%26sp_csd%3Dd2lkZ2V0TmFtZT1zcF9tdGY%26psc%3D1'},\n",
       "  'Lenovo ThinkCentre M70q Gen 2 Mini PC, Intel Core i5, 8GB RAM, Windows 10 Pro': {'price': '£295.00',\n",
       "   'url': '/Lenovo-ThinkCentre-M720Q-Graphics-Windows/dp/B09GPWZZM2/ref=sr_1_14?keywords=lenovo+thinkcentre&qid=1668463334&sr=8-14'},\n",
       "  'Lenovo ThinkCentre Workstation PC M900 SFF i5-6400 16GB RAM 480GB SSD Windows 10 Pro (Renewed)': {'price': '£295.00',\n",
       "   'url': '/Lenovo-ThinkCentre-Intel%C2%AE-i7-8700-DDR4-SDRAM/dp/B07N1HH6Y7/ref=sr_1_15?keywords=lenovo+thinkcentre&qid=1668463334&sr=8-15'},\n",
       "  'ThinkCentre M700 TINY Core i5-6400T 2.20GHz 8GB 120GB SSD W10 Pro (Certified Refurbished)': {'price': '£394.25',\n",
       "   'url': '/Lenovo-ThinkCentre-2-7GHz-i5-6400-Refurbished/dp/B085L9Q5YP/ref=sr_1_16?keywords=lenovo+thinkcentre&qid=1668463334&sr=8-16'},\n",
       "  'Mini PC AMD Ryzen 5 5600U 6 Core Windows 11 Pro Mini Desktop PC Computer, 16GB DDR4 500GB NVMe SSD, 2 * 4K HDMI + Type-C, WiFi 6E, BT 5.3, 2.5G Ethernet,Offcie Business Gaming Micro PC': {'price': '£495.00',\n",
       "   'url': '/Lenovo-ThinkCentre-Windows-Compatible-10ST007EUK/dp/B09RFZ7PWB/ref=sr_1_17?keywords=lenovo+thinkcentre&qid=1668463334&sr=8-17'},\n",
       "  'Micro Computer Intel 11th Generation Processors N5100 Mini PC W11, 8G DDR4 256G M.2 SSD 2280 TRIGKEY Green G3 Desktop PC, Support Micro PC W10 Pro Dual 4K@60Hz HDMI/WiFi 5/BT 4.0/W11': {'price': '£519.00',\n",
       "   'url': '/sspa/click?ie=UTF8&spc=MToyMDk4MzQzMTU2ODUxMTQzOjE2Njg0NjMzMzQ6c3BfbXRmOjIwMDc3Njk0MTcyNDk4OjowOjo&url=%2FFanless-Windows-Micro-Desktop-Computer-Bluetooth-Montieren%2Fdp%2FB0936S1DV1%2Fref%3Dsr_1_18_sspa%3Fkeywords%3Dlenovo%2Bthinkcentre%26qid%3D1668463334%26sr%3D8-18-spons%26sp_csd%3Dd2lkZ2V0TmFtZT1zcF9tdGY%26psc%3D1'}}}"
      ]
     },
     "execution_count": 4,
     "metadata": {},
     "output_type": "execute_result"
    }
   ],
   "source": [
    "scrapeAmazonProducts(url1)"
   ]
  },
  {
   "cell_type": "code",
   "execution_count": 5,
   "id": "6f1cc53c-17aa-44ee-a279-071c8624d3e6",
   "metadata": {},
   "outputs": [],
   "source": [
    "# from amazon.api import AmazonAPI\n",
    "# amazon = AmazonAPI(AMAZON_ACCESS_KEY, AMAZON_SECRET_KEY, AMAZON_ASSOC_TAG)\n",
    "# products = amazon.search(Keywords='kindle', SearchIndex='All')\n",
    "# for i, product in enumerate(products):\n",
    "#     print (\"{0}. '{1}'\".format(i, product.title))"
   ]
  },
  {
   "cell_type": "code",
   "execution_count": 6,
   "id": "42e71bf7-3d7e-4bbd-bc90-ee88f460391f",
   "metadata": {},
   "outputs": [],
   "source": [
    "# from urllib.parse import quote\n",
    "# from urllib.request import urlretrieve\n",
    "\n",
    "# query = quote(query)\n",
    "# query\n",
    "# # url1 = 'https://www.amazon.com/s?k=' + query"
   ]
  },
  {
   "cell_type": "code",
   "execution_count": null,
   "id": "ef00fd41-7fbb-4d15-a4f8-201e813a441a",
   "metadata": {},
   "outputs": [],
   "source": []
  }
 ],
 "metadata": {
  "kernelspec": {
   "display_name": "Python 3",
   "language": "python",
   "name": "python3"
  },
  "language_info": {
   "codemirror_mode": {
    "name": "ipython",
    "version": 3
   },
   "file_extension": ".py",
   "mimetype": "text/x-python",
   "name": "python",
   "nbconvert_exporter": "python",
   "pygments_lexer": "ipython3",
   "version": "3.8.8"
  }
 },
 "nbformat": 4,
 "nbformat_minor": 5
}
