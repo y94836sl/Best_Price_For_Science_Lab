{
 "cells": [
  {
   "cell_type": "code",
   "execution_count": 1,
   "id": "0c3d972e-b162-439d-bdf3-d083df9f4474",
   "metadata": {},
   "outputs": [],
   "source": [
    "from bs4 import BeautifulSoup\n",
    "import requests\n",
    "import csv"
   ]
  },
  {
   "cell_type": "code",
   "execution_count": 2,
   "id": "23e5f08d-d779-4b15-8517-c7867392210a",
   "metadata": {},
   "outputs": [],
   "source": [
    "def generateUrl(query):\n",
    "    # Generate Amazon URL from query\n",
    "    query = query.replace(' ', '+')\n",
    "    url1 = 'https://www.amazon.com/s?k=' + query\n",
    "    # Generate TechBuyer URL from query\n",
    "    # e.g. https://www.techbuyer.com/uk/catalogsearch/result/?q=lenovo+thinkcentre\n",
    "    url2 = 'https://www.techbuyer.com/uk/catalogsearch/result/?q=' + query\n",
    "    return url1, url2\n",
    "\n",
    "def scrapeAmazonProducts(url):\n",
    "    HEADERS = {'user-agent': 'Mozilla/5.0 (Macintosh; Intel Mac OS X 13_0) AppleWebKit/537.36 (KHTML, like Gecko) Chrome/106.0.0.0 Safari/537.36'}\n",
    "    webpage = requests.get(url, headers=HEADERS)\n",
    "    bs = BeautifulSoup(webpage.content, \"lxml\")\n",
    "    \n",
    "    # Scrape product names\n",
    "    names = bs.findAll('span',{'class':'a-size-medium a-color-base a-text-normal'})\n",
    "    nameList = []\n",
    "    for name in names:\n",
    "        nameList.append(name.get_text())\n",
    "        \n",
    "    # Scrape product prices\n",
    "    prices = bs.findAll('span',{'class':'a-offscreen'})\n",
    "    priceList = []\n",
    "    for price in prices:\n",
    "        priceList.append(price.get_text())\n",
    "        \n",
    "    # Store scraped data in a dictionary\n",
    "    n = len(nameList)\n",
    "    products = {}\n",
    "    for i in range(n):\n",
    "        products[nameList[i]] = priceList[i]\n",
    "    result['Amazon'] =  products\n",
    "    return result\n",
    "\n",
    "def scrapeTechbuyer(url):\n",
    "    HEADERS = {'user-agent': 'Mozilla/5.0 (Macintosh; Intel Mac OS X 13_0) AppleWebKit/537.36 (KHTML, like Gecko) Chrome/106.0.0.0 Safari/537.36'}\n",
    "    webpage = requests.get(url, headers=HEADERS)\n",
    "    bs = BeautifulSoup(webpage.content, \"lxml\")\n",
    "    \n",
    "    # Scrape product names\n",
    "    names = bs.findAll('a',{'class':'products__item-link'})\n",
    "    nameList = []\n",
    "    for name in names:\n",
    "        nameList.append(name.get_text())\n",
    "    # Delete the \"\\n\"\n",
    "    temp = []\n",
    "    for n in nameList:\n",
    "        temp.append(n.strip())\n",
    "    nameList = temp\n",
    "    \n",
    "    # Scrape product prices\n",
    "    prices = bs.findAll('span',{'class':'price'})\n",
    "    priceList = []\n",
    "    for price in prices:\n",
    "        priceList.append(price.get_text())\n",
    "    # Store scraped data in a dictionary\n",
    "    n = len(nameList)\n",
    "    products = {}\n",
    "    for i in range(n):\n",
    "        products[nameList[i]] = priceList[i]\n",
    "    result['Techbuyer'] =  products\n",
    "    return result   \n",
    "# url2 = 'https://www.techbuyer.com/uk/catalogsearch/result/?q=+lenovo+thinkcentre&_gl=1*d60se4*_up*MQ..&gclid=CjwKCAiAvK2bBhB8EiwAZUbP1IyuVi11ty-uwj4fZQzNqwzROCdr7AtUmd_snmlY_EDDMbeUSq4ilRoCaRUQAvD_BwE'"
   ]
  },
  {
   "cell_type": "code",
   "execution_count": 3,
   "id": "56a7c0b5-9d21-4454-a811-a5d9201d423c",
   "metadata": {},
   "outputs": [
    {
     "data": {
      "text/plain": [
       "'https://www.amazon.com/s?k=Lenovo+ThinkCenter'"
      ]
     },
     "execution_count": 3,
     "metadata": {},
     "output_type": "execute_result"
    }
   ],
   "source": [
    "result = {}\n",
    "query = 'Lenovo ThinkCenter'\n",
    "url1, url2 = generateUrl(query)\n",
    "url1"
   ]
  },
  {
   "cell_type": "code",
   "execution_count": 4,
   "id": "6f1cc53c-17aa-44ee-a279-071c8624d3e6",
   "metadata": {},
   "outputs": [],
   "source": [
    "# from amazon.api import AmazonAPI\n",
    "# amazon = AmazonAPI(AMAZON_ACCESS_KEY, AMAZON_SECRET_KEY, AMAZON_ASSOC_TAG)\n",
    "# products = amazon.search(Keywords='kindle', SearchIndex='All')\n",
    "# for i, product in enumerate(products):\n",
    "#     print (\"{0}. '{1}'\".format(i, product.title))"
   ]
  },
  {
   "cell_type": "code",
   "execution_count": 5,
   "id": "42e71bf7-3d7e-4bbd-bc90-ee88f460391f",
   "metadata": {},
   "outputs": [],
   "source": [
    "# from urllib.parse import quote\n",
    "# from urllib.request import urlretrieve\n",
    "\n",
    "# query = quote(query)\n",
    "# query\n",
    "# # url1 = 'https://www.amazon.com/s?k=' + query"
   ]
  },
  {
   "cell_type": "code",
   "execution_count": 6,
   "id": "643cc12d-be6d-4296-aeb9-b731dbc1bc39",
   "metadata": {},
   "outputs": [
    {
     "data": {
      "text/plain": [
       "{'Amazon': {}}"
      ]
     },
     "execution_count": 6,
     "metadata": {},
     "output_type": "execute_result"
    }
   ],
   "source": [
    "url = 'https://www.amazon.com/s?k=Lenovo+ThinkCenter&crid=2LLI9LNB030YD&sprefix=lenovo+thinkcenter%2Caps%2C147&ref=nb_sb_noss_2'\n",
    "scrapeAmazonProducts(url)"
   ]
  },
  {
   "cell_type": "code",
   "execution_count": null,
   "id": "ef00fd41-7fbb-4d15-a4f8-201e813a441a",
   "metadata": {},
   "outputs": [],
   "source": []
  }
 ],
 "metadata": {
  "kernelspec": {
   "display_name": "Python 3",
   "language": "python",
   "name": "python3"
  },
  "language_info": {
   "codemirror_mode": {
    "name": "ipython",
    "version": 3
   },
   "file_extension": ".py",
   "mimetype": "text/x-python",
   "name": "python",
   "nbconvert_exporter": "python",
   "pygments_lexer": "ipython3",
   "version": "3.8.8"
  }
 },
 "nbformat": 4,
 "nbformat_minor": 5
}
