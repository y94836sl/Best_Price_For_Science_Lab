{
 "cells": [
  {
   "cell_type": "code",
   "execution_count": 1,
   "id": "0c3d972e-b162-439d-bdf3-d083df9f4474",
   "metadata": {},
   "outputs": [],
   "source": [
    "from bs4 import BeautifulSoup\n",
    "import requests\n",
    "import csv"
   ]
  },
  {
   "cell_type": "code",
   "execution_count": 2,
   "id": "23e5f08d-d779-4b15-8517-c7867392210a",
   "metadata": {},
   "outputs": [],
   "source": [
    "def generateUrl(query):\n",
    "    # Generate Amazon URL from query\n",
    "    query = query.replace(' ', '+')\n",
    "    url1 = 'https://www.amazon.co.uk/s?k=' + query\n",
    "    # Generate TechBuyer URL from query\n",
    "    # e.g. https://www.techbuyer.com/uk/catalogsearch/result/?q=lenovo+thinkcentre\n",
    "    url2 = 'https://www.techbuyer.com/uk/catalogsearch/result/?q=' + query\n",
    "    # Generate scientific laboratory supplies URL from query\n",
    "    # e.g. https://www.scientificlabs.co.uk/search/ethanol\n",
    "    url3 = 'https://www.scientificlabs.co.uk/search/' + query\n",
    "    return url1, url2, url3\n",
    "\n",
    "def scrapeAmazonProducts(url):\n",
    "    HEADERS = {'user-agent': 'Mozilla/5.0 (Macintosh; Intel Mac OS X 13_0) AppleWebKit/537.36 (KHTML, like Gecko) Chrome/106.0.0.0 Safari/537.36'}\n",
    "    webpage = requests.get(url, headers=HEADERS)\n",
    "    bs = BeautifulSoup(webpage.content, \"lxml\")\n",
    "    \n",
    "    # Scrape product names\n",
    "    names = bs.findAll('span',{'class':'a-size-medium a-color-base a-text-normal'})\n",
    "    nameList = []\n",
    "    for name in names:\n",
    "        nameList.append(name.get_text())\n",
    "    # Scrape product prices\n",
    "    prices = bs.findAll('span',{'class':'a-offscreen'})\n",
    "    priceList = []\n",
    "    for price in prices:\n",
    "        priceList.append(price.get_text())\n",
    "    # Scrape product urls\n",
    "    urls = bs.findAll('a',{'class':'a-link-normal s-underline-text s-underline-link-text s-link-style a-text-normal'})\n",
    "    urlList = []\n",
    "    for url in urls:\n",
    "        urlList.append(url.attrs['href'])\n",
    "    \n",
    "    # Store scraped data in a dictionary\n",
    "    n = len(nameList)\n",
    "    products = {}\n",
    "    for i in range(n):\n",
    "        details = {}\n",
    "        details['price'] = priceList[i]\n",
    "        details['url'] = urlList[i]\n",
    "\n",
    "        products[nameList[i]] = details\n",
    "    result['Amazon'] =  products\n",
    "    return result\n",
    "\n",
    "def scrapeTechbuyer(url):\n",
    "    HEADERS = {'user-agent': 'Mozilla/5.0 (Macintosh; Intel Mac OS X 13_0) AppleWebKit/537.36 (KHTML, like Gecko) Chrome/106.0.0.0 Safari/537.36'}\n",
    "    webpage = requests.get(url, headers=HEADERS)\n",
    "    bs = BeautifulSoup(webpage.content, \"lxml\")\n",
    "    \n",
    "    # Scrape product names\n",
    "    names = bs.findAll('a',{'class':'products__item-link'})\n",
    "    nameList = []\n",
    "    for name in names:\n",
    "        nameList.append(name.get_text())\n",
    "    # Delete the \"\\n\"\n",
    "    temp = []\n",
    "    for n in nameList:\n",
    "        temp.append(n.strip())\n",
    "    nameList = temp\n",
    "    \n",
    "    # Scrape product prices\n",
    "    prices = bs.findAll('span',{'class':'price'})\n",
    "    priceList = []\n",
    "    for price in prices:\n",
    "        priceList.append(price.get_text())\n",
    "    \n",
    "    # Store scraped data in a dictionary\n",
    "    n = len(nameList)\n",
    "    products = {}\n",
    "    for i in range(n):\n",
    "        products[nameList[i]] = priceList[i]\n",
    "    result['Techbuyer'] =  products\n",
    "    return result   \n",
    "# url2 = 'https://www.techbuyer.com/uk/catalogsearch/result/?q=+lenovo+thinkcentre&_gl=1*d60se4*_up*MQ..&gclid=CjwKCAiAvK2bBhB8EiwAZUbP1IyuVi11ty-uwj4fZQzNqwzROCdr7AtUmd_snmlY_EDDMbeUSq4ilRoCaRUQAvD_BwE'"
   ]
  },
  {
   "cell_type": "markdown",
   "id": "788f4fb7-5bed-4e73-9cf1-59a27a9d4d06",
   "metadata": {},
   "source": [
    "# Test for Amazon and Techbuyer"
   ]
  },
  {
   "cell_type": "code",
   "execution_count": 3,
   "id": "56a7c0b5-9d21-4454-a811-a5d9201d423c",
   "metadata": {},
   "outputs": [],
   "source": [
    "# result = {}\n",
    "# query = 'Lenovo ThinkCenter'\n",
    "# url1, url2 = generateUrl(query)\n",
    "# url1"
   ]
  },
  {
   "cell_type": "code",
   "execution_count": 4,
   "id": "f39d61bc-c3cc-4382-91ee-3f61de41fccf",
   "metadata": {},
   "outputs": [],
   "source": [
    "# scrapeAmazonProducts(url1)"
   ]
  },
  {
   "cell_type": "code",
   "execution_count": 5,
   "id": "6f1cc53c-17aa-44ee-a279-071c8624d3e6",
   "metadata": {},
   "outputs": [],
   "source": [
    "# from amazon.api import AmazonAPI\n",
    "# amazon = AmazonAPI(AMAZON_ACCESS_KEY, AMAZON_SECRET_KEY, AMAZON_ASSOC_TAG)\n",
    "# products = amazon.search(Keywords='kindle', SearchIndex='All')\n",
    "# for i, product in enumerate(products):\n",
    "#     print (\"{0}. '{1}'\".format(i, product.title))"
   ]
  },
  {
   "cell_type": "code",
   "execution_count": 6,
   "id": "42e71bf7-3d7e-4bbd-bc90-ee88f460391f",
   "metadata": {},
   "outputs": [],
   "source": [
    "# from urllib.parse import quote\n",
    "# from urllib.request import urlretrieve\n",
    "\n",
    "# query = quote(query)\n",
    "# query\n",
    "# # url1 = 'https://www.amazon.com/s?k=' + query"
   ]
  },
  {
   "cell_type": "markdown",
   "id": "61ba76a7-5126-47ca-bd5b-29dfe76aa83d",
   "metadata": {},
   "source": [
    "# Test for scientific laboratory supplies"
   ]
  },
  {
   "cell_type": "code",
   "execution_count": 7,
   "id": "ef00fd41-7fbb-4d15-a4f8-201e813a441a",
   "metadata": {},
   "outputs": [
    {
     "data": {
      "text/plain": [
       "'https://www.scientificlabs.co.uk/search/Ethanol'"
      ]
     },
     "execution_count": 7,
     "metadata": {},
     "output_type": "execute_result"
    }
   ],
   "source": [
    "# e.g. https://uk.vwr.com/store/product?keyword=Ethanol\n",
    "url1, url2, url3 = generateUrl('Ethanol')\n",
    "url3"
   ]
  },
  {
   "cell_type": "code",
   "execution_count": 8,
   "id": "570b8f80-0acf-46ee-9a9f-fcf274d555f3",
   "metadata": {},
   "outputs": [],
   "source": [
    "HEADERS = {'user-agent': 'Mozilla/5.0 (Macintosh; Intel Mac OS X 13_0) AppleWebKit/537.36 (KHTML, like Gecko) Chrome/106.0.0.0 Safari/537.36'}\n",
    "webpage = requests.get(url3, headers=HEADERS)\n",
    "bs = BeautifulSoup(webpage.content, \"lxml\")\n",
    "\n",
    "# Scrape product Names\n",
    "# a = bs.findAll('a',href=True, title=True, style=\"color:black;\")\n",
    "# print(a) \n",
    "nameList = []\n",
    "urlList = []\n",
    "sizeList = []\n",
    "priceList = []"
   ]
  },
  {
   "cell_type": "code",
   "execution_count": 9,
   "id": "8c9cce94-c2be-46fd-afb8-35f443451009",
   "metadata": {},
   "outputs": [],
   "source": [
    "# for i in a:\n",
    "#     href = i.get('href')\n",
    "#     name = i.get('title')\n",
    "#     nameList.append(name)\n",
    "#     urlList.append(href)\n",
    "# print('\\n Names: \\n', nameList, '\\n Urls: \\n', urlList)\n",
    "# print(len(nameList),len(urlList))"
   ]
  },
  {
   "cell_type": "code",
   "execution_count": 10,
   "id": "a23196ae-c191-43fe-8031-6c866a12c21b",
   "metadata": {},
   "outputs": [
    {
     "data": {
      "text/plain": [
       "<div class=\"table-row\">\n",
       "<div class=\"product\">\n",
       "<a href=\"https://www.scientificlabs.co.uk/product/CHE1938\" id=\"ctl00_cphContent_searchresult5_28November202218513234_searchResultPicture\" target=\"_self\" title=\"Ethanol Industrial (99% Ims/ida) (74 Op) 2.5l. Registration Of Authorisation Required\"><img alt=\"\" src=\"https://www.scientificlabs.co.uk/image/thumbnail/CHE1938\" style=\"border-width:0px;\" title=\"Ethanol Industrial (99% Ims/ida) (74 Op) 2.5l. Registration Of Authorisation Required\"/></a>\n",
       "</div>\n",
       "<div class=\"code\"><span id=\"ctl00_cphContent_searchresult5_28November202218513234_searchResultProductCode\">CHE1938</span></div>\n",
       "<div class=\"description\">\n",
       "<a href=\"https://www.scientificlabs.co.uk/product/CHE1938\" id=\"ctl00_cphContent_searchresult5_28November202218513234_searchResultDescription\" style=\"color:black;\" target=\"_self\" title=\"Ethanol Industrial (99% Ims/ida) (74 Op) 2.5l. Registration Of Authorisation Required\">Ethanol Industrial (99% Ims/ida) (74 Op) 2.5l. Registration Of Authorisation Required</a>\n",
       "<span class=\"attn\" id=\"ctl00_cphContent_searchresult5_28November202218513234_searchResultSavers\"></span>\n",
       "<p style=\"margin-top:5px;\">\n",
       "</p>\n",
       "</div>\n",
       "<div class=\"unit-size mobileGridCloserRows flex-100 indentedGridRow mobileDisplayContents range-unit\"><span class=\"show-for-small-only mobile-align-non-kendo\">Unit:</span><span id=\"ctl00_cphContent_searchresult5_28November202218513234_searchResultUnit\">2.5L</span></div>\n",
       "<div class=\"price product-table-price mobileGridCloserRows flex-100 indentedGridRow range-price\" style=\"padding-left: 22px;\"><span class=\"show-for-small-only mobile-align-non-kendo\">List Price:</span>\n",
       "<span class=\"gridDisplayBlock\" id=\"ctl00_cphContent_searchresult5_28November202218513234_searchResultPrice\">£44.39</span></div>\n",
       "<div class=\"price product-table-price show-for-small-only mobileGridCloserRows flex-100 indentedGridRow\"><span class=\"show-for-small-only mobile-align-non-kendo\">Source:</span><span id=\"ctl00_cphContent_searchresult5_28November202218513234_searchResultPriceSource\">List Price</span></div>\n",
       "<div class=\"qty\">\n",
       "<input class=\"quantity\" id=\"ctl00_cphContent_searchresult5_28November202218513234_searchResultQuantity\" maxlength=\"4\" name=\"ctl00$cphContent$searchresult5_28November202218513234$searchResultQuantity\" onkeydown=\"if (isEnterKeyPressed(this, event) == true){ addToBasketWrapper('add', 'CHE1938', $(this).attr('id'));return false;} return true;\" type=\"text\" value=\"1\"/>\n",
       "<a class=\"adder\" id=\"ctl00_cphContent_searchresult5_28November202218513234_linkAddBasket\" ischemical=\"\" onclick=\"addToBasketWrapper('add', 'CHE1938', $(this).prev().attr('id'));\">ADD</a>\n",
       "</div>\n",
       "<span class=\"basketAttn\"></span>\n",
       "</div>"
      ]
     },
     "execution_count": 10,
     "metadata": {},
     "output_type": "execute_result"
    }
   ],
   "source": [
    "# Scrape product details\n",
    "products = bs.findAll('div', {'class':'table-row'})\n",
    "products[5]"
   ]
  },
  {
   "cell_type": "code",
   "execution_count": 11,
   "id": "21316238-e66e-45b3-b2c5-92fdc4d527c2",
   "metadata": {},
   "outputs": [
    {
     "name": "stdout",
     "output_type": "stream",
     "text": [
      "\n",
      "\n",
      "\n",
      " ['Azlon Round Integral Vented Wash Bottle for Ethanol Orange Cap 500mL - Promotional Offer ', 'Azlon Round Integral Vented Wash Bottle for Methanol Green Cap 500mL - Promotional Offer ', 'Ethanol (Untaxed), Puriss. p.a., absolute, Greater than or equal to 99.8% (GC), for license holders only', 'Methanol, CHROMASOLV, for HPLC, Greater than or equal to 99.9%', 'Methanol, CHROMASOLV LC-MS', 'Ethanol Industrial (99% Ims/ida) (74 Op) 2.5l. Registration Of Authorisation Required', 'Ethanol (Untaxed), Puriss. p.a., ACS Reagent, Reag. Ph. Eur., 96% (v/v), for license holders only', 'Methanol, Puriss. p.a., ACS Reagent, Reag. ISO, Reag. Ph. Eur., Greater than or equal to 99.8% (GC)', 'Methanol, CHROMASOLV, gradient grade, for HPLC, Greater than or equal to 99.9%', 'Ethanol, BioUltra, for molecular biology, >=99.8%, (absolute alcohol, without additive, A15 o1)', 'Methanol, Puriss., meets analytical specification of Ph Eur, Greater than or equal to 99.7% (GC)', 'Methanol, CHROMASOLV LC-MS', 'Ethanol Industrial (99% Ims/ida) (74 Op) 5l. Registration Of Authorisation Required', 'Azlon Wash Bottle 500ml for Methanol with Driplock seal', 'Potassium Hydroxide 0.1m (n/10) (in Methanol) 2.5l.- Volumetric', 'Azlon Wash Bottle 500ml for Ethanol non-vented', 'Ethanol (Untaxed), Puriss., absolute, sales not in Germany, Greater than or equal to 99.8% (GC), for license holders only', 'Ethanol denatured (Untaxed), UK IDA standard, for license holders in Ireland and United Kingdom only', 'HYDRANAL - Solvent E, Medium for volumetric two-component Karl Fischer titration (ethanol-based)', 'HYDRANAL - Titrant 5 E, Titrating agent for volumetric two-component Karl Fischer titration (ethanol-based)', '2-Phenoxyethanol, pharmaceutical secondary standard; traceable to USP and PhEur', 'Ethanol Industrial (94% Ims/ida) (64 Op) 2.5l. Registration Of Authorisation Required', 'Ethanol (Untaxed), Pure, for molecular biology, 200 Proof, sales not in Germany, for license holders only', 'Methanol, CHROMASOLV, for HPLC, Greater than or equal to 99.9%', 'HYDRANAL - Coulomat CG, Catholyte for coulometric Karl Fischer titration (methanol-based)'] \n",
      "\n",
      "\n",
      " ['https://www.scientificlabs.co.uk/product/F151179', 'https://www.scientificlabs.co.uk/product/F151177', 'https://www.scientificlabs.co.uk/product/32221-2.5L', 'https://www.scientificlabs.co.uk/product/34860-2.5L', 'https://www.scientificlabs.co.uk/product/34966-2.5L', 'https://www.scientificlabs.co.uk/product/CHE1938', 'https://www.scientificlabs.co.uk/product/32294-2.5L', 'https://www.scientificlabs.co.uk/product/32213-2.5L', 'https://www.scientificlabs.co.uk/product/34885-2.5L', 'https://www.scientificlabs.co.uk/product/51976-500ML-F', 'https://www.scientificlabs.co.uk/product/24229-2.5L', 'https://www.scientificlabs.co.uk/product/34966-1L', 'https://www.scientificlabs.co.uk/product/CHE1940', 'https://www.scientificlabs.co.uk/product/BOT9348', 'https://www.scientificlabs.co.uk/product/CHE2992', 'https://www.scientificlabs.co.uk/product/BOT9380', 'https://www.scientificlabs.co.uk/product/24103-2.5L', 'https://www.scientificlabs.co.uk/product/458600-25L', 'https://www.scientificlabs.co.uk/product/34730-1L', 'https://www.scientificlabs.co.uk/product/34732-1L', 'https://www.scientificlabs.co.uk/product/PHR1121-1.5G', 'https://www.scientificlabs.co.uk/product/CHE1932', 'https://www.scientificlabs.co.uk/product/E7024-500ML', 'https://www.scientificlabs.co.uk/product/34860-1L', 'https://www.scientificlabs.co.uk/product/34840-50ML'] \n",
      "\n",
      "\n",
      " ['PK5', 'PK5', '2.5L', '2.5L', '2.5L', '2.5L', '2.5L', '2.5L', '2.5L', '500ML', '2.5L', '1L', '5L', 'PK5', '2.5L', 'PK5', 'EA', '25L', '1L', '1L', 'EACH', '2.5L', '500ML', '1L', '50ML'] \n",
      "\n",
      "\n",
      " ['£20.90', '£20.90', '£113.08', '£69.43', '£80.74', '£44.39', '£261.34', '£67.78', '£39.79', '£92.10', '£54.98', '£38.07', '£66.00', '£38.00', '£38.00', '£29.38', '£60.25', '£190.60', '£59.38', '£57.94', '£78.70', '£30.00', '£157.00', '£24.75', '£92.13']\n",
      "\n",
      "\n",
      "\n",
      " 25 \n",
      "\n",
      "\n",
      " 25 \n",
      "\n",
      "\n",
      " 25 \n",
      "\n",
      "\n",
      " 25\n"
     ]
    }
   ],
   "source": [
    "for product in products:\n",
    "    name_a = product.find('a',href=True, title=True, style=\"color:black;\", target=True)\n",
    "    href = name_a.get('href')\n",
    "    name = name_a.get('title')\n",
    "    size_div = product.find('div',{'class':'unit-size mobileGridCloserRows flex-100 indentedGridRow mobileDisplayContents range-unit'})\n",
    "    size = size_div.find('span', id=True).get_text()\n",
    "    price = product.find('span',{'class':'gridDisplayBlock'}).get_text()\n",
    "    \n",
    "    nameList.append(name)\n",
    "    urlList.append(href)\n",
    "    sizeList.append(size)\n",
    "    priceList.append(price)\n",
    "    \n",
    "print(\"\\n\\n\\n\",nameList,\"\\n\\n\\n\", urlList, \"\\n\\n\\n\", sizeList,\"\\n\\n\\n\",priceList)\n",
    "print(\"\\n\\n\\n\",len(nameList),\"\\n\\n\\n\", len(urlList), \"\\n\\n\\n\", len(sizeList),\"\\n\\n\\n\",len(priceList))"
   ]
  },
  {
   "cell_type": "code",
   "execution_count": 12,
   "id": "e085851f-8d50-48fb-997f-fad4927abe82",
   "metadata": {},
   "outputs": [],
   "source": [
    "n = len(products)\n",
    "product = {}\n",
    "for i in range(n):\n",
    "    details = {}\n",
    "    details['size'] = sizeList[i]\n",
    "    details['price'] = priceList[i]\n",
    "    details['url'] = urlList[i]\n",
    "\n",
    "    product[nameList[i]] = details\n",
    "# result['ScientificLaboratorySupplies '] =  product\n",
    "# return result"
   ]
  },
  {
   "cell_type": "code",
   "execution_count": 14,
   "id": "ad10caa7-1db1-4f84-a267-3321513b578c",
   "metadata": {},
   "outputs": [
    {
     "data": {
      "text/plain": [
       "{'Azlon Round Integral Vented Wash Bottle for Ethanol Orange Cap 500mL - Promotional Offer ': {'size': 'PK5',\n",
       "  'price': '£20.90',\n",
       "  'url': 'https://www.scientificlabs.co.uk/product/F151179'},\n",
       " 'Azlon Round Integral Vented Wash Bottle for Methanol Green Cap 500mL - Promotional Offer ': {'size': 'PK5',\n",
       "  'price': '£20.90',\n",
       "  'url': 'https://www.scientificlabs.co.uk/product/F151177'},\n",
       " 'Ethanol (Untaxed), Puriss. p.a., absolute, Greater than or equal to 99.8% (GC), for license holders only': {'size': '2.5L',\n",
       "  'price': '£113.08',\n",
       "  'url': 'https://www.scientificlabs.co.uk/product/32221-2.5L'},\n",
       " 'Methanol, CHROMASOLV, for HPLC, Greater than or equal to 99.9%': {'size': '1L',\n",
       "  'price': '£24.75',\n",
       "  'url': 'https://www.scientificlabs.co.uk/product/34860-1L'},\n",
       " 'Methanol, CHROMASOLV LC-MS': {'size': '1L',\n",
       "  'price': '£38.07',\n",
       "  'url': 'https://www.scientificlabs.co.uk/product/34966-1L'},\n",
       " 'Ethanol Industrial (99% Ims/ida) (74 Op) 2.5l. Registration Of Authorisation Required': {'size': '2.5L',\n",
       "  'price': '£44.39',\n",
       "  'url': 'https://www.scientificlabs.co.uk/product/CHE1938'},\n",
       " 'Ethanol (Untaxed), Puriss. p.a., ACS Reagent, Reag. Ph. Eur., 96% (v/v), for license holders only': {'size': '2.5L',\n",
       "  'price': '£261.34',\n",
       "  'url': 'https://www.scientificlabs.co.uk/product/32294-2.5L'},\n",
       " 'Methanol, Puriss. p.a., ACS Reagent, Reag. ISO, Reag. Ph. Eur., Greater than or equal to 99.8% (GC)': {'size': '2.5L',\n",
       "  'price': '£67.78',\n",
       "  'url': 'https://www.scientificlabs.co.uk/product/32213-2.5L'},\n",
       " 'Methanol, CHROMASOLV, gradient grade, for HPLC, Greater than or equal to 99.9%': {'size': '2.5L',\n",
       "  'price': '£39.79',\n",
       "  'url': 'https://www.scientificlabs.co.uk/product/34885-2.5L'},\n",
       " 'Ethanol, BioUltra, for molecular biology, >=99.8%, (absolute alcohol, without additive, A15 o1)': {'size': '500ML',\n",
       "  'price': '£92.10',\n",
       "  'url': 'https://www.scientificlabs.co.uk/product/51976-500ML-F'},\n",
       " 'Methanol, Puriss., meets analytical specification of Ph Eur, Greater than or equal to 99.7% (GC)': {'size': '2.5L',\n",
       "  'price': '£54.98',\n",
       "  'url': 'https://www.scientificlabs.co.uk/product/24229-2.5L'},\n",
       " 'Ethanol Industrial (99% Ims/ida) (74 Op) 5l. Registration Of Authorisation Required': {'size': '5L',\n",
       "  'price': '£66.00',\n",
       "  'url': 'https://www.scientificlabs.co.uk/product/CHE1940'},\n",
       " 'Azlon Wash Bottle 500ml for Methanol with Driplock seal': {'size': 'PK5',\n",
       "  'price': '£38.00',\n",
       "  'url': 'https://www.scientificlabs.co.uk/product/BOT9348'},\n",
       " 'Potassium Hydroxide 0.1m (n/10) (in Methanol) 2.5l.- Volumetric': {'size': '2.5L',\n",
       "  'price': '£38.00',\n",
       "  'url': 'https://www.scientificlabs.co.uk/product/CHE2992'},\n",
       " 'Azlon Wash Bottle 500ml for Ethanol non-vented': {'size': 'PK5',\n",
       "  'price': '£29.38',\n",
       "  'url': 'https://www.scientificlabs.co.uk/product/BOT9380'},\n",
       " 'Ethanol (Untaxed), Puriss., absolute, sales not in Germany, Greater than or equal to 99.8% (GC), for license holders only': {'size': 'EA',\n",
       "  'price': '£60.25',\n",
       "  'url': 'https://www.scientificlabs.co.uk/product/24103-2.5L'},\n",
       " 'Ethanol denatured (Untaxed), UK IDA standard, for license holders in Ireland and United Kingdom only': {'size': '25L',\n",
       "  'price': '£190.60',\n",
       "  'url': 'https://www.scientificlabs.co.uk/product/458600-25L'},\n",
       " 'HYDRANAL - Solvent E, Medium for volumetric two-component Karl Fischer titration (ethanol-based)': {'size': '1L',\n",
       "  'price': '£59.38',\n",
       "  'url': 'https://www.scientificlabs.co.uk/product/34730-1L'},\n",
       " 'HYDRANAL - Titrant 5 E, Titrating agent for volumetric two-component Karl Fischer titration (ethanol-based)': {'size': '1L',\n",
       "  'price': '£57.94',\n",
       "  'url': 'https://www.scientificlabs.co.uk/product/34732-1L'},\n",
       " '2-Phenoxyethanol, pharmaceutical secondary standard; traceable to USP and PhEur': {'size': 'EACH',\n",
       "  'price': '£78.70',\n",
       "  'url': 'https://www.scientificlabs.co.uk/product/PHR1121-1.5G'},\n",
       " 'Ethanol Industrial (94% Ims/ida) (64 Op) 2.5l. Registration Of Authorisation Required': {'size': '2.5L',\n",
       "  'price': '£30.00',\n",
       "  'url': 'https://www.scientificlabs.co.uk/product/CHE1932'},\n",
       " 'Ethanol (Untaxed), Pure, for molecular biology, 200 Proof, sales not in Germany, for license holders only': {'size': '500ML',\n",
       "  'price': '£157.00',\n",
       "  'url': 'https://www.scientificlabs.co.uk/product/E7024-500ML'},\n",
       " 'HYDRANAL - Coulomat CG, Catholyte for coulometric Karl Fischer titration (methanol-based)': {'size': '50ML',\n",
       "  'price': '£92.13',\n",
       "  'url': 'https://www.scientificlabs.co.uk/product/34840-50ML'}}"
      ]
     },
     "execution_count": 14,
     "metadata": {},
     "output_type": "execute_result"
    }
   ],
   "source": [
    "product"
   ]
  },
  {
   "cell_type": "code",
   "execution_count": null,
   "id": "6d71457a-27eb-4fb6-bc6f-e46f5452c19c",
   "metadata": {},
   "outputs": [],
   "source": []
  }
 ],
 "metadata": {
  "kernelspec": {
   "display_name": "Python 3",
   "language": "python",
   "name": "python3"
  },
  "language_info": {
   "codemirror_mode": {
    "name": "ipython",
    "version": 3
   },
   "file_extension": ".py",
   "mimetype": "text/x-python",
   "name": "python",
   "nbconvert_exporter": "python",
   "pygments_lexer": "ipython3",
   "version": "3.8.8"
  }
 },
 "nbformat": 4,
 "nbformat_minor": 5
}
