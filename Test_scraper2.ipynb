{
 "cells": [
  {
   "cell_type": "code",
   "execution_count": 1,
   "id": "0c3d972e-b162-439d-bdf3-d083df9f4474",
   "metadata": {},
   "outputs": [],
   "source": [
    "from bs4 import BeautifulSoup\n",
    "import requests\n",
    "import csv"
   ]
  },
  {
   "cell_type": "code",
   "execution_count": 2,
   "id": "23e5f08d-d779-4b15-8517-c7867392210a",
   "metadata": {},
   "outputs": [],
   "source": [
    "def generateUrl(query):\n",
    "    query = query.replace(' ', '+')\n",
    "    # Generate Amazon URL from query\n",
    "    url1 = 'https://www.amazon.co.uk/s?k=' + query\n",
    "    \n",
    "    # Generate TechBuyer URL from query\n",
    "    url2 = 'https://www.techbuyer.com/uk/catalogsearch/result/?q=' + query\n",
    "    \n",
    "    # Generate scientific laboratory supplies URL from query\n",
    "    url3 = 'https://www.scientificlabs.co.uk/search/' + query\n",
    "    \n",
    "#     # Generate RS URL from query\n",
    "#     url4 = 'https://uk.rs-online.com/web/c/?searchTerm=' + query\n",
    "    \n",
    "    # Generate Farnell URL from query\n",
    "    url4 = 'https://uk.farnell.com/search?st=' + query\n",
    "    return url1, url2, url3, url4\n",
    "\n",
    "def getData(url):\n",
    "    HEADERS = {'user-agent': 'Mozilla/5.0 (Macintosh; Intel Mac OS X 13_0) AppleWebKit/537.36 (KHTML, like Gecko) Chrome/106.0.0.0 Safari/537.36'}\n",
    "    webpage = requests.get(url, headers=HEADERS)\n",
    "    soup = BeautifulSoup(webpage.content, \"lxml\")\n",
    "    return soup\n",
    "\n",
    "def getAmazonProducts(bs):\n",
    "    # Scrape product names\n",
    "    names = bs.findAll('span',{'class':'a-size-medium a-color-base a-text-normal'})\n",
    "    nameList = []\n",
    "    for name in names:\n",
    "        nameList.append(name.get_text())\n",
    "    # Scrape product prices\n",
    "    prices = bs.findAll('span',{'class':'a-offscreen'})\n",
    "    priceList = []\n",
    "    for price in prices:\n",
    "        priceList.append(price.get_text())\n",
    "    # Scrape product urls\n",
    "    urls = bs.findAll('a',{'class':'a-link-normal s-underline-text s-underline-link-text s-link-style a-text-normal'})\n",
    "    urlList = []\n",
    "    for url in urls:\n",
    "        url = 'https://www.amazon.co.uk/' + url.attrs['href']\n",
    "        urlList.append(url)\n",
    "    # Store scraped data in a dictionary\n",
    "    n = len(nameList)\n",
    "    products = {}\n",
    "    for i in range(n):\n",
    "        details = {}\n",
    "        details['price'] = priceList[i]\n",
    "        details['url'] = urlList[i]\n",
    "        products[nameList[i]] = details\n",
    "    result['Amazon'] =  products\n",
    "    return result\n",
    "\n",
    "def getTechbuyerProducts(bs):\n",
    "    # Scrape product names\n",
    "    names = bs.findAll('a',{'class':'products__item-link'})\n",
    "    nameList = []\n",
    "    for name in names:\n",
    "        nameList.append(name.get_text())\n",
    "    # Delete the \"\\n\"\n",
    "    temp = []\n",
    "    for n in nameList:\n",
    "        temp.append(n.strip())\n",
    "    nameList = temp\n",
    "\n",
    "    # Scrape product prices\n",
    "    prices = bs.findAll('span',{'class':'price'})\n",
    "    priceList = []\n",
    "    for price in prices:\n",
    "        priceList.append(price.get_text())\n",
    "\n",
    "    # Scrape product urls\n",
    "    urls = bs.findAll('a',{'class':'products__item-link'})\n",
    "    urlList = []\n",
    "    for url in urls:\n",
    "        urlList.append(url.attrs['href'])\n",
    "    # Store scraped data in a dictionary\n",
    "    n = len(nameList)\n",
    "    products = {}\n",
    "    # Store scraped data in a dictionary\n",
    "    n = len(nameList)\n",
    "    products = {}\n",
    "    for i in range(n):\n",
    "        details = {}\n",
    "        details['price'] = priceList[i]\n",
    "        details['url'] = urlList[i]\n",
    "        products[nameList[i]] = details\n",
    "    result['Techbuyer'] =  products\n",
    "    return result\n",
    "\n",
    "def getScientificLabsProduct(bs):\n",
    "    nameList = []\n",
    "    urlList = []\n",
    "    sizeList = []\n",
    "    priceList = []\n",
    "\n",
    "    # Scrape product details\n",
    "    products = bs.findAll('div', {'class':'table-row'})\n",
    "    for product in products:\n",
    "        name_a = product.find('a',href=True, title=True, style=\"color:black;\", target=True)\n",
    "        href = name_a.get('href')\n",
    "        name = name_a.get('title')\n",
    "        size_div = product.find('div',{'class':'unit-size mobileGridCloserRows flex-100 indentedGridRow mobileDisplayContents range-unit'})\n",
    "        size = size_div.find('span', id=True).get_text()\n",
    "        price = product.find('span',{'class':'gridDisplayBlock'}).get_text()\n",
    "\n",
    "        nameList.append(name)\n",
    "        urlList.append(href)\n",
    "        sizeList.append(size)\n",
    "        priceList.append(price)\n",
    "\n",
    "    n = len(products)\n",
    "    product = {}\n",
    "    for i in range(n):\n",
    "        details = {}\n",
    "        details['price'] = priceList[i]\n",
    "        details['size'] = sizeList[i]\n",
    "        details['url'] = urlList[i]\n",
    "\n",
    "        product[nameList[i]] = details\n",
    "    result['ScientificLaboratorySupplies '] =  product\n",
    "    return result"
   ]
  },
  {
   "cell_type": "markdown",
   "id": "61ba76a7-5126-47ca-bd5b-29dfe76aa83d",
   "metadata": {},
   "source": [
    "# Test Result"
   ]
  },
  {
   "cell_type": "code",
   "execution_count": 3,
   "id": "6d71457a-27eb-4fb6-bc6f-e46f5452c19c",
   "metadata": {},
   "outputs": [
    {
     "data": {
      "text/plain": [
       "{'Amazon': {'Saviland Gel Nail Polish Remover Kit - 250ML Nail Polish Remover with Nail Clips, Nail Tools,Cuticle Pusher, 500PCS Cotton Pad Nail Remover Manicure Kit for Salon Home DIY': {'price': '£9.99',\n",
       "   'url': 'https://www.amazon.co.uk//sspa/click?ie=UTF8&spc=MTo4MTA0NzY3NzA3NjI5NzI1OjE2Njk2NzM5Mzk6c3BfYXRmOjIwMDY1MjE1MTQ2MjA0OjowOjo&url=%2FAcetone-Superior-Quality-Polish-Remover%2Fdp%2FB0182QCU7E%2Fref%3Dsr_1_1_sspa%3Fkeywords%3DAcetone%26qid%3D1669673939%26sr%3D8-1-spons%26sp_csd%3Dd2lkZ2V0TmFtZT1zcF9hdGY%26psc%3D1%26smid%3DAYGGMWI8Z0G1N'},\n",
       "  'Magic Nail Polish Remover, Professional Easily & Quickly Removes for Natural, Gel Nails without Hurting Nails and No Need For Foil, Soaking Or Wrapping': {'price': '£13.50',\n",
       "   'url': 'https://www.amazon.co.uk//sspa/click?ie=UTF8&spc=MTo4MTA0NzY3NzA3NjI5NzI1OjE2Njk2NzM5Mzk6c3BfYXRmOjIwMDc3NTgzNzU2NTA0OjowOjo&url=%2FMylee-Acetone-Polish-Remover-Quality%2Fdp%2FB0182QGCJQ%2Fref%3Dsr_1_2_sspa%3Fkeywords%3DAcetone%26qid%3D1669673939%26sr%3D8-2-spons%26sp_csd%3Dd2lkZ2V0TmFtZT1zcF9hdGY%26psc%3D1%26smid%3DAYGGMWI8Z0G1N'}},\n",
       " 'Techbuyer': {},\n",
       " 'ScientificLaboratorySupplies ': {'Azlon Round Integral Vented Wash Bottle for Acetone Red Cap 500mL - Promotional Offer ': {'price': '£20.90',\n",
       "   'size': 'PK5',\n",
       "   'url': 'https://www.scientificlabs.co.uk/product/F151176'},\n",
       "  'Acetone, CHROMASOLV, for HPLC, Greater than or equal to 99.8%': {'price': '£169.66',\n",
       "   'size': 'EACH',\n",
       "   'url': 'https://www.scientificlabs.co.uk/product/34850-4X2.5L'},\n",
       "  'Acetone, Puriss. p.a., ACS Reagent, Reag. ISO, Reag. Ph. Eur., Greater than or equal to 99.5% (GC)': {'price': '£57.41',\n",
       "   'size': '2.5L',\n",
       "   'url': 'https://www.scientificlabs.co.uk/product/32201-2.5L'},\n",
       "  'Acetone Pure 2.5l. >99%': {'price': '£33.00',\n",
       "   'size': '2.5L',\n",
       "   'url': 'https://www.scientificlabs.co.uk/product/CHE1040'},\n",
       "  'Acetone Tech. 5l.': {'price': '£62.00',\n",
       "   'size': '5L',\n",
       "   'url': 'https://www.scientificlabs.co.uk/product/CHE1046'},\n",
       "  'Azlon Wash Bottle 500ml for Acetone with Driplock seal': {'price': '£34.47',\n",
       "   'size': 'PK5',\n",
       "   'url': 'https://www.scientificlabs.co.uk/product/BOT9340'},\n",
       "  'Acetone, Puriss., meets analytical specification of BP, NF, Ph. Eur., Greater than or equal to 99% (GC)': {'price': '£80.24',\n",
       "   'size': '2.5L',\n",
       "   'url': 'https://www.scientificlabs.co.uk/product/24201-2.5L'},\n",
       "  'Azlon Wash Bottle 500ml Acetone Red': {'price': '£23.00',\n",
       "   'size': 'PK5',\n",
       "   'url': 'https://www.scientificlabs.co.uk/product/BOT9088'},\n",
       "  'Azlon Wash Bottle 500ml for Acetone non-vented': {'price': '£32.78',\n",
       "   'size': 'PK5',\n",
       "   'url': 'https://www.scientificlabs.co.uk/product/BOT9372'},\n",
       "  'Azlon Wash Bottle 250ml for Acetone with Driplock seal': {'price': '£31.07',\n",
       "   'size': 'PK5',\n",
       "   'url': 'https://www.scientificlabs.co.uk/product/BOT9330'},\n",
       "  'Acetone Pure 1l. >99%': {'price': '£21.00',\n",
       "   'size': '1L',\n",
       "   'url': 'https://www.scientificlabs.co.uk/product/CHE1044'},\n",
       "  'Azlon Wash Bottle 250ml Acetone Red': {'price': '£20.00',\n",
       "   'size': 'PK5',\n",
       "   'url': 'https://www.scientificlabs.co.uk/product/BOT9074'},\n",
       "  'Grams decolorizer solution, for microscopy': {'price': '£23.40',\n",
       "   'size': '250ML',\n",
       "   'url': 'https://www.scientificlabs.co.uk/product/75482-250ML-F'},\n",
       "  'Acetone, ACS reagent, Greater than or equal to 99.5%': {'price': '£94.01',\n",
       "   'size': '2.5L',\n",
       "   'url': 'https://www.scientificlabs.co.uk/product/179124-2.5L'},\n",
       "  'Acetone Pure 25l. >99%': {'price': '£261.00',\n",
       "   'size': '25L',\n",
       "   'url': 'https://www.scientificlabs.co.uk/product/CHE1042'},\n",
       "  'Acetone Analytical Reagent (a.r.) 2.5l. ': {'price': '£46.00',\n",
       "   'size': '2.5L',\n",
       "   'url': 'https://www.scientificlabs.co.uk/product/CHE1034'},\n",
       "  'Azlon Wash Bottle 250ml for Acetone non-vented': {'price': '£26.56',\n",
       "   'size': 'PK5',\n",
       "   'url': 'https://www.scientificlabs.co.uk/product/BOT9356'},\n",
       "  'Acetone, CHROMASOLV, for pesticide residue analysis': {'price': '£52.42',\n",
       "   'size': '2.5L',\n",
       "   'url': 'https://www.scientificlabs.co.uk/product/34480-2.5L'},\n",
       "  'Azlon 500mL Vented Round Integral Wash Bottle - Acetone': {'price': '£33.67',\n",
       "   'size': 'PK5',\n",
       "   'url': 'https://www.scientificlabs.co.uk/product/BOT0038'},\n",
       "  'EPA 8270 Organophosphorus Pesticides Mix, 2000 mug/mL each component in hexane: acetone (80:20), analytical standard': {'price': '£143.00',\n",
       "   'size': 'EACH',\n",
       "   'url': 'https://www.scientificlabs.co.uk/product/48469'},\n",
       "  'EPA 525,525.1 Internal Standard Mix, 500 mug/mL each component in acetone, analytical standard': {'price': '£84.60',\n",
       "   'size': 'EACH',\n",
       "   'url': 'https://www.scientificlabs.co.uk/product/48242'},\n",
       "  '1,1,1-Trichloro-2-methyl-2-propanol hemihydrate, 98%': {'price': '£31.40',\n",
       "   'size': '50G',\n",
       "   'url': 'https://www.scientificlabs.co.uk/product/112054-50G'},\n",
       "  'Acetone Tech. 25l.': {'price': '£177.00',\n",
       "   'size': '25L',\n",
       "   'url': 'https://www.scientificlabs.co.uk/product/CHE1048'}}}"
      ]
     },
     "execution_count": 3,
     "metadata": {},
     "output_type": "execute_result"
    }
   ],
   "source": [
    "query = 'Acetone'\n",
    "url1, url2, url3, url4 = generateUrl(query)\n",
    "result = {}\n",
    "getAmazonProducts(getData(url1))\n",
    "getTechbuyerProducts(getData(url2))\n",
    "getScientificLabsProduct(getData(url3))"
   ]
  },
  {
   "cell_type": "markdown",
   "id": "a7e2b615-6796-4f46-9232-50d1d7f47469",
   "metadata": {},
   "source": [
    "# Test For Farnell"
   ]
  },
  {
   "cell_type": "code",
   "execution_count": 4,
   "id": "d8214591-0c8e-46d4-a989-35a8f1ba5786",
   "metadata": {},
   "outputs": [
    {
     "data": {
      "text/plain": [
       "<td class=\"description enhanceDescClmn\">\n",
       "<input class=\"hVal\" type=\"hidden\" value=\"MULTICOMP PRO\"/>\n",
       "<a href=\"https://uk.farnell.com/multicomp-pro/mc002236/cleaner-bottle-1l/dp/2854870?st=Acetone\" title=\"Cleaner, Acetone Solvent, For 3D Printing, Bottle, 1L Volume\">\n",
       "<p class=\"productDecription\">Cleaner, Acetone Solvent, For 3D Printing, Bottle, 1L Volume</p>\n",
       "</a>\n",
       "<p class=\"manufacturerName\">MULTICOMP PRO</p>\n",
       "<div class=\"plpBestSellerWraper\" id=\"vn_bestSeller_182663039\">\n",
       "</div>\n",
       "<div class=\"displayNone\" data-preflagordercode-2854870=\"true\" id=\"prevPF\">\n",
       "<span class=\"icon-info-circled ppf-infoIcon\"></span>\n",
       "<span class=\"ppf-txt\">You previously purchased this product.\n",
       "\t\t\t<a href=\"https://uk.farnell.com/webapp/wcs/stores/servlet/PFOrderSearch?catalogId=15001&amp;searchField=orderCode&amp;storeId=10151&amp;langId=44&amp;searchValue=2854870\" onclick=\"pf.tagging.VOHflgClick('plp', 2854870)\">View in Order History</a>\n",
       "</span>\n",
       "</div>\n",
       "</td>"
      ]
     },
     "execution_count": 4,
     "metadata": {},
     "output_type": "execute_result"
    }
   ],
   "source": [
    "bs = getData(url4)\n",
    "\n",
    "nameL = []\n",
    "priceL = []\n",
    "urlL = []\n",
    "\n",
    "# Scrape product details\n",
    "descriptions = bs.findAll('td', {'class':'description enhanceDescClmn'})\n",
    "descriptions[0]"
   ]
  },
  {
   "cell_type": "code",
   "execution_count": 5,
   "id": "5d04de4a-56a3-4316-911c-f7fff49268f8",
   "metadata": {},
   "outputs": [
    {
     "name": "stdout",
     "output_type": "stream",
     "text": [
      "<td class=\"listPrice enhanceQtyColumn\">\n",
      "<div data-ref=\"182663039\" id=\"vn_price_182663039\">\n",
      "<p class=\"price showPartList showFirst5\" data-maxprices=\"5\" id=\"priceList_0\">\n",
      "<span class=\"priceBreak data-product-pricerow-products-0\">\n",
      "<span class=\"qty\" data-price=\"products-0-price-priceList-{priceNumber}-minQtyDesc\">1+</span>\n",
      "<span class=\"vatSwitchBox\" data-price=\"products-0-price-listPrice\">\n",
      "<span class=\"vatExcl\" data-price=\"products-0-price-priceList-{priceNumber}-priceFormatted\">£11.52</span>\n",
      "<span class=\"vatIncl\" data-price=\"products-0-price-priceList-{priceNumber}-vatPriceFormatted\">£13.82</span>\n",
      "</span>\n",
      "</span>\n",
      "</p>\n",
      "<input id=\"2854870\" style=\"display:none;\" type=\"textarea\" value=\"2854870**false**false**true**true**false**true**[[1,11.52]]\"/>\n",
      "<script type=\"text/javascript\">\n",
      "\tif(!priceBreakArrays)\n",
      "\t{\n",
      "\t\tvar priceBreakArrays =[];\n",
      "\t}\n",
      "\t\tpriceBreakArrays['182663039']=[[1,11.52]];\n",
      "</script>\n",
      "</div>\n",
      "<div class=\"priceWidthHold\"></div>\n",
      "</td>\n"
     ]
    }
   ],
   "source": [
    "for d in descriptions:\n",
    "    name = d.find('a', href=True).get('title')\n",
    "    url = d.find('a', href=True).get('href')\n",
    "    nameL.append(name)\n",
    "    urlL.append(url)\n",
    "priceCol = bs.findAll('td',{'class':'listPrice enhanceQtyColumn'})\n",
    "print(priceCol[0])"
   ]
  },
  {
   "cell_type": "code",
   "execution_count": 6,
   "id": "3b55720e-d421-4043-ae8c-24f1e8051804",
   "metadata": {},
   "outputs": [],
   "source": [
    "for i in priceCol:\n",
    "    price = i.find('span', {'class':'vatExcl'}).get_text()\n",
    "    priceL.append(price)"
   ]
  },
  {
   "cell_type": "code",
   "execution_count": 8,
   "id": "8f708c0f-b0e1-48d4-ad2d-b38076a4b9a1",
   "metadata": {},
   "outputs": [
    {
     "name": "stdout",
     "output_type": "stream",
     "text": [
      "9 9 9\n"
     ]
    }
   ],
   "source": [
    "print(len(priceL), len(nameL), len(urlL))"
   ]
  },
  {
   "cell_type": "code",
   "execution_count": 12,
   "id": "8a40a487-585e-47ab-b9ee-673f02517a9e",
   "metadata": {},
   "outputs": [
    {
     "data": {
      "text/plain": [
       "{'Cleaner, Acetone Solvent, For 3D Printing, Bottle, 1L Volume': {'price': '£11.52',\n",
       "  'url': 'https://uk.farnell.com/multicomp-pro/mc002236/cleaner-bottle-1l/dp/2854870?st=Acetone'},\n",
       " 'Cleaner, Acetone Solvent, Fast Drying and Zero Residue, 3D Printing, Can, 945 ml': {'price': '£10.44',\n",
       "  'url': 'https://uk.farnell.com/mg-chemicals/434-1l/acetone-solvent-can-945ml/dp/2811935?st=Acetone'},\n",
       " 'Dispensing Bottle, Dissipative, ESD, Pump, Acetone Printed, Yellow, 180ml DurAstatic Series': {'price': '£18.98',\n",
       "  'url': 'https://uk.farnell.com/menda/35277/dispenser-pump-bottle-yellow-180ml/dp/2907825?st=Acetone'},\n",
       " 'Dispensing Bottle, Dissipative, ESD, Pump, Acetone Printed, Blue, 240ml DurAstatic Series': {'price': '£29.39',\n",
       "  'url': 'https://uk.farnell.com/menda/35288/dispenser-pump-bottle-blue-240ml/dp/2907833?st=Acetone'},\n",
       " 'Cleaner, Surface, Acetone/Butanone, PVC-U, Tangit, Can, 1 l': {'price': '£13.72',\n",
       "  'url': 'https://uk.farnell.com/tangit/44267/cleaning-pvc-u-tangit-detergente/dp/1500265?st=Acetone'},\n",
       " 'Strain Gauge Kit, Adhesive': {'price': '£233.31',\n",
       "  'url': 'https://uk.farnell.com/omega/tt300/strain-gauge-kit-adhesive/dp/3794955?st=Acetone'},\n",
       " 'Dispensing Bottle, Dissipative, ESD, Pump, Acetone Printed, Orange, 180ml DurAstatic Series': {'price': '£19.54',\n",
       "  'url': 'https://uk.farnell.com/menda/35271/dispenser-pump-bottle-orange-180ml/dp/2907821?st=Acetone'},\n",
       " 'Cleaner, Acetone Solvent, Spray Bottle, Lacquered Roofing Membranes, 500 ml': {'price': '£37.82',\n",
       "  'url': 'https://uk.farnell.com/abb/7tca083830r0010/cleaning-solution-spray-bottle/dp/3561019?st=Acetone'},\n",
       " 'Dispensing Bottle, Dissipative, ESD, Acetone Printed, Orange, 180ml DurAstatic Series': {'price': '£7.78',\n",
       "  'url': 'https://uk.farnell.com/menda/35492/dispenser-bottle-orange-180ml/dp/2907840?st=Acetone'}}"
      ]
     },
     "execution_count": 12,
     "metadata": {},
     "output_type": "execute_result"
    }
   ],
   "source": [
    "n = len(nameL)\n",
    "product = {}\n",
    "for i in range(n):\n",
    "    details = {}\n",
    "    details['price'] = priceL[i]\n",
    "    details['url'] = urlL[i]\n",
    "\n",
    "    product[nameL[i]] = details\n",
    "# result['Farnell '] =  product\n",
    "product"
   ]
  },
  {
   "cell_type": "code",
   "execution_count": null,
   "id": "c2801e4c-cc95-4de2-a512-1291040de7da",
   "metadata": {},
   "outputs": [],
   "source": []
  }
 ],
 "metadata": {
  "kernelspec": {
   "display_name": "Python 3",
   "language": "python",
   "name": "python3"
  },
  "language_info": {
   "codemirror_mode": {
    "name": "ipython",
    "version": 3
   },
   "file_extension": ".py",
   "mimetype": "text/x-python",
   "name": "python",
   "nbconvert_exporter": "python",
   "pygments_lexer": "ipython3",
   "version": "3.8.8"
  }
 },
 "nbformat": 4,
 "nbformat_minor": 5
}
