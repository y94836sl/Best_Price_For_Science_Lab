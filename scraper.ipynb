{
 "cells": [
  {
   "cell_type": "code",
   "execution_count": 1,
   "id": "0c3d972e-b162-439d-bdf3-d083df9f4474",
   "metadata": {},
   "outputs": [],
   "source": [
    "from bs4 import BeautifulSoup\n",
    "import requests\n",
    "import csv\n",
    " \n",
    "HEADERS = {'user-agent': 'Mozilla/5.0 (Macintosh; Intel Mac OS X 13_0) AppleWebKit/537.36 (KHTML, like Gecko) Chrome/106.0.0.0 Safari/537.36'}\n",
    "\n",
    "result = {}\n",
    "url =  \"https://www.amazon.co.uk/s?k=Lenovo+ThinkCentre&crid=1NM9IGP0ZU0CL&sprefix=lenovo+thinkcentre%2Caps%2C176&ref=nb_sb_noss_1\"\n",
    "\n",
    "# fetch the url\n",
    "webpage = requests.get(url, headers=HEADERS)\n",
    "soup = BeautifulSoup(webpage.content, \"lxml\")"
   ]
  },
  {
   "cell_type": "code",
   "execution_count": 2,
   "id": "465e3bd5-cd02-456b-8689-9b9e41a705ac",
   "metadata": {},
   "outputs": [],
   "source": [
    "names = soup.findAll('span',{'class':'a-size-medium a-color-base a-text-normal'})\n",
    "nameList = []\n",
    "for name in names:\n",
    "    nameList.append(name.get_text())"
   ]
  },
  {
   "cell_type": "code",
   "execution_count": 3,
   "id": "7d1025e8-86b3-4491-a0c1-81c4696ab901",
   "metadata": {},
   "outputs": [],
   "source": [
    "# nameList"
   ]
  },
  {
   "cell_type": "code",
   "execution_count": 4,
   "id": "a23f0d1b-86ec-4208-a967-c168ec2e37e1",
   "metadata": {},
   "outputs": [],
   "source": [
    "prices = soup.findAll('span',{'class':'a-offscreen'})\n",
    "priceList = []\n",
    "for price in prices:\n",
    "    priceList.append(price.get_text())"
   ]
  },
  {
   "cell_type": "code",
   "execution_count": 5,
   "id": "2bc1cdce-daec-4836-b57e-21971a09a5d3",
   "metadata": {},
   "outputs": [],
   "source": [
    "# priceList"
   ]
  },
  {
   "cell_type": "code",
   "execution_count": 6,
   "id": "7622cbbf-29a8-4ab7-9664-ea8692df6e01",
   "metadata": {},
   "outputs": [],
   "source": [
    "n = len(nameList)\n",
    "products = {}\n",
    "for i in range(n):\n",
    "    products[nameList[i]] = priceList[i]\n",
    "# products"
   ]
  },
  {
   "cell_type": "code",
   "execution_count": 7,
   "id": "653f649f-d3b4-4c6c-96f7-661cd5e67085",
   "metadata": {},
   "outputs": [],
   "source": [
    "result = {}\n",
    "result['Amazon'] =  products"
   ]
  },
  {
   "cell_type": "code",
   "execution_count": 8,
   "id": "e9566a55-a10f-4549-9c88-d30da2831f9f",
   "metadata": {},
   "outputs": [
    {
     "data": {
      "text/plain": [
       "{'Amazon': {'Lenovo ThinkCentre M900 Tower PC i7 - 6700 16GB RAM 480GB SSD + 500GB HDD USB 3.0 Windows 10 Pro (Refurbished)': '£339.99',\n",
       "  'Zahara SATA HDD CABLE+CADDY REPLACEMENT FOR LENOVO THINKCENTRE M710Q M910Q M910X M920Q M920X 00XL211': '£41.89',\n",
       "  'Lenovo ThinkCentre M710q Tiny Business PC Core i5 (6400T) 2.20GHz 8GB 256GB SSD Windows 10 Pro 10MQS8F900 (Renewed)': '£149.00',\n",
       "  'Lenovo ThinkCentre NEO 50S Core i5-12400 16GB 512GB SSD Windows 11 Pro 64 Desktop PC': '£629.99',\n",
       "  'Lenovo ThinkCentre M720q Tiny Mini PC Intel Core i5-8400T 8GB DDR4 256GB SSD Windows 10 Pro 64 10T7004BUK (Renewed)': '£266.92',\n",
       "  'Lenovo ThinkCentre M93p Tiny USFF Desktop PC - Quad Core i5-4590T 8GB 256GB SSD WiFi Windows 10 Pro Desktop PC Computer (Renewed)': '£285.00',\n",
       "  'Mini PC Windows 11 Pro AMD Ryzen 9 5900HX 8 Cores 32GB RAM 512GB PCle SSD, Support 2 x 2.5 inch HDD/SSD, 2 x HDMI/ 2 x DisplayPort, 1 x 2.5G RJ45, 5 x USB 3.0, 1 x USB-C, 2 x Line Out': '£629.99',\n",
       "  'Lenovo ThinkCentre M900 TINY Desktop Quad Core i5-8GB RAM - 256GB SSD - W10 Pro (Renewed)': '£399.99',\n",
       "  'Lenovo ThinkCentre M75s Gen 2-11R8000GUK SFF Desktop PC': '£549.00',\n",
       "  'ThinkCentre M700 TINY Core i5-6400T 2.20GHz 8GB 120GB SSD W10 Pro (Certified Refurbished)': '£579.99',\n",
       "  'Lenovo ThinkCentre M92p SFF Quad Core i5-3470 8GB 250GB DVD WiFi Windows 10 Professional 64Bit Desktop PC Computer (Renewed)': '£699.00',\n",
       "  'Lenovo ThinkCentre M70t Tower Desktop - Intel Core i5-10400 (6 Cores, 4.3GHz), 16GB DDR4, 512GB SSD, Intel UHD Graphics 630, WiFi 11ac & BT 5, Windows 10 Pro - 11EV000EUK (Renewed)': '£499.00',\n",
       "  'MeLE Quieter 3Q Fanless Mini PC N5105, Small Computer Portable, DDR4, Win 11, Dual HDMI 4K, 2.4G/5G Wi-Fi 6, Gigabit Ethernet, BT 5.2, USB 3.2 * 4, SD Card & SSD Support, VESA Mount (8G/256G)': '£131.90',\n",
       "  'Lenovo ThinkCentre M90a Intel Core i5 60.5 cm (23.8\") 1920 x 1080 pixels 8 GB DDR4-SDRAM 256 GB SSD All-in-One PC Windows 11 Pro Wi-Fi 5 (802.11ac) Black': '£159.99',\n",
       "  'Lenovo ThinkCentre M70q Gen 2 Mini PC, Intel Core i5, 8GB RAM, Windows 10 Pro': '£799.99',\n",
       "  'THINKCENTRE Lenovo M73 Tiny Desktop PC 10AX-A016UK i3 8GB RAM 120GB SSD Smart TV WiFi WIN 10 Home (Renewed)': '£399.99',\n",
       "  'HISTTON Firewall Micro Appliance Fanless Mini PC 4 LAN Quad Core Celeron J4125 Firewall PC 4GB RAM 128GB SSD, OPNsense Mini Firewall, HDMI, WiFI, BT4.0, AES-NI, Mini PC Server VPN Router': '£549.00',\n",
       "  'Lenovo ThinkCentre M70s Core i7-10700 8GB 256GB SSD Windoes 10 Pro Desktop PC': '£115.90',\n",
       "  'Lenovo ThinkCentre neo 50s DDR4-SDRAM i7-12700 CFF Intel® Core™ i7 8 GB 512 GB SSD Windows 11 Pro PC Black': '£89.99',\n",
       "  'Lenovo Thinkcentre M710S SFF Office Desktop PC i5 6500 3.20 GHz 8GB RAM 256GB SSD Windows 10 Pro 10M70007UK (Renewed)': '£679.99',\n",
       "  'MeLE PCG02 Mini PC Stick Fanless Celeron J4125, Small Computer Portable Micro PC, DDR4, Win 11, HDMI 4K 60Hz, 2.4G/5G Wi-Fi, Gigabit Ethernet, BT 4.2, USB 3.0 * 2, Wake on LAN, PXE (8G/256G)': '£299.99',\n",
       "  'Micro Computer Intel 11th Generation Processors N5100 Mini PC W11Desktop PC, 8G DDR4 128G M.2 SSD 2280 TRIGKEY Green G3, Support Micro PC W10 Pro Dual 4K@60Hz HDMI/WiFi 5/BT/W11': '£1,233.85'}}"
      ]
     },
     "execution_count": 8,
     "metadata": {},
     "output_type": "execute_result"
    }
   ],
   "source": [
    "result"
   ]
  },
  {
   "cell_type": "code",
   "execution_count": 11,
   "id": "23e5f08d-d779-4b15-8517-c7867392210a",
   "metadata": {},
   "outputs": [],
   "source": [
    "def getData(url):\n",
    "    HEADERS = {'user-agent': 'Mozilla/5.0 (Macintosh; Intel Mac OS X 13_0) AppleWebKit/537.36 (KHTML, like Gecko) Chrome/106.0.0.0 Safari/537.36'}\n",
    "    webpage = requests.get(url, headers=HEADERS)\n",
    "    soup = BeautifulSoup(webpage.content, \"lxml\")\n",
    "    return soup\n",
    "\n",
    "def scrapeAmazonProducts(bs):\n",
    "    # Scrape product names\n",
    "    names = bs.findAll('span',{'class':'a-size-medium a-color-base a-text-normal'})\n",
    "    nameList = []\n",
    "    for name in names:\n",
    "        nameList.append(name.get_text())\n",
    "    # Scrape product prices\n",
    "    prices = bs.findAll('span',{'class':'a-offscreen'})\n",
    "    priceList = []\n",
    "    for price in prices:\n",
    "        priceList.append(price.get_text())\n",
    "    # Store scraped data in a dictionary\n",
    "    n = len(nameList)\n",
    "    products = {}\n",
    "    for i in range(n):\n",
    "        products[nameList[i]] = priceList[i]\n",
    "    result['Amazon'] =  products\n",
    "    return result\n",
    "    \n",
    "url2 = 'https://www.techbuyer.com/uk/catalogsearch/result/?q=+lenovo+thinkcentre&_gl=1*d60se4*_up*MQ..&gclid=CjwKCAiAvK2bBhB8EiwAZUbP1IyuVi11ty-uwj4fZQzNqwzROCdr7AtUmd_snmlY_EDDMbeUSq4ilRoCaRUQAvD_BwE'\n",
    "bs = getData(url2)\n",
    "# def scrapeTechbuyer(bs):\n",
    "#     # Scrape product names\n",
    "#     names = bs.findAll('a',{'class':'products__item-link'})\n",
    "#     nameList = []\n",
    "#     for name in names:\n",
    "#         nameList.append(name.get_text())"
   ]
  },
  {
   "cell_type": "code",
   "execution_count": 16,
   "id": "1b558188-dee9-480e-ad0c-19e173e12401",
   "metadata": {},
   "outputs": [
    {
     "data": {
      "text/plain": [
       "['\\n                                                                Lenovo Thinkcentre M710S SFF I5-7400 8GB 256GB SSD Windows 10 Pro B Grade                            ',\n",
       " '\\n                                                                Lenovo Thinkcentre M720Q I5-9400T 8GB 256GB SSD WiFi Windows 10 ProB Grade                            ',\n",
       " '\\n                                                                IBM Lenovo ThinkCentre M57 Heatsink Fan Assembly                            ',\n",
       " '\\n                                                                IBM Lenovo ThinkCentre M57 HeatSink Fan Assembly                             ',\n",
       " '\\n                                                                Lenovo 4GB (1x4GB) PC3-12800S 1Rx8 Laptop Memory                            ',\n",
       " '\\n                                                                Lenovo Solid State Drive 120GB MLC SATA                            ',\n",
       " '\\n                                                                Lenovo Hard Drive 146GB 15K SAS                            ',\n",
       " '\\n                                                                Lenovo Hard Drive 600GB 15K SAS                            ',\n",
       " '\\n                                                                Lenovo Hard Drive 600GB 15K SAS                            ',\n",
       " '\\n                                                                Lenovo 300GB 15K SAS Hard Drive                            ',\n",
       " '\\n                                                                Lenovo 16GB (1x16GB) PC4-17000R Server Memory                            ',\n",
       " '\\n                                                                Lenovo Hard Drive 600GB 15K 512 DP SAS                            ',\n",
       " '\\n                                                                Lenovo 1.2TB Hard Drive 10K SAS                            ',\n",
       " '\\n                                                                Lenovo 1.2TB 10K SAS Hard Drive                            ',\n",
       " '\\n                                                                Lenovo 600GB 15K SAS Hard Drive                            ',\n",
       " '\\n                                                                Lenovo 16GB (1x16GB) PC4-17000R Server Memory                            ',\n",
       " '\\n                                                                Lenovo 1.2TB Hard Drve 10k SAS                            ',\n",
       " '\\n                                                                Lenovo Hard Drive 300GB 10K SAS                            ',\n",
       " '\\n                                                                Lenovo 16GB (1x16GB) PC4-2133P 2Rx4 Server Memory                             ',\n",
       " '\\n                                                                Lenovo Solid State Drive 120GB MLC SATA                            ']"
      ]
     },
     "execution_count": 16,
     "metadata": {},
     "output_type": "execute_result"
    }
   ],
   "source": [
    "# Scrape product names\n",
    "names = bs.findAll('a',{'class':'products__item-link'})\n",
    "nameList = []\n",
    "for name in names:\n",
    "    nameList.append(name.get_text())\n",
    "nameList"
   ]
  },
  {
   "cell_type": "code",
   "execution_count": 17,
   "id": "77f837d2-0298-4b21-96bd-f268f51655ae",
   "metadata": {},
   "outputs": [
    {
     "data": {
      "text/plain": [
       "['Lenovo Thinkcentre M710S SFF I5-7400 8GB 256GB SSD Windows 10 Pro B Grade',\n",
       " 'Lenovo Thinkcentre M720Q I5-9400T 8GB 256GB SSD WiFi Windows 10 ProB Grade',\n",
       " 'IBM Lenovo ThinkCentre M57 Heatsink Fan Assembly',\n",
       " 'IBM Lenovo ThinkCentre M57 HeatSink Fan Assembly',\n",
       " 'Lenovo 4GB (1x4GB) PC3-12800S 1Rx8 Laptop Memory',\n",
       " 'Lenovo Solid State Drive 120GB MLC SATA',\n",
       " 'Lenovo Hard Drive 146GB 15K SAS',\n",
       " 'Lenovo Hard Drive 600GB 15K SAS',\n",
       " 'Lenovo Hard Drive 600GB 15K SAS',\n",
       " 'Lenovo 300GB 15K SAS Hard Drive',\n",
       " 'Lenovo 16GB (1x16GB) PC4-17000R Server Memory',\n",
       " 'Lenovo Hard Drive 600GB 15K 512 DP SAS',\n",
       " 'Lenovo 1.2TB Hard Drive 10K SAS',\n",
       " 'Lenovo 1.2TB 10K SAS Hard Drive',\n",
       " 'Lenovo 600GB 15K SAS Hard Drive',\n",
       " 'Lenovo 16GB (1x16GB) PC4-17000R Server Memory',\n",
       " 'Lenovo 1.2TB Hard Drve 10k SAS',\n",
       " 'Lenovo Hard Drive 300GB 10K SAS',\n",
       " 'Lenovo 16GB (1x16GB) PC4-2133P 2Rx4 Server Memory',\n",
       " 'Lenovo Solid State Drive 120GB MLC SATA']"
      ]
     },
     "execution_count": 17,
     "metadata": {},
     "output_type": "execute_result"
    }
   ],
   "source": [
    "temp = []\n",
    "for n in nameList:\n",
    "    temp.append(n.strip())\n",
    "nameList = temp\n",
    "nameList"
   ]
  },
  {
   "cell_type": "code",
   "execution_count": 18,
   "id": "2b686a1f-9552-4de6-9353-35fa5c167955",
   "metadata": {},
   "outputs": [
    {
     "data": {
      "text/plain": [
       "{'Amazon': {'Lenovo ThinkCentre M900 Tower PC i7 - 6700 16GB RAM 480GB SSD + 500GB HDD USB 3.0 Windows 10 Pro (Refurbished)': '£339.99',\n",
       "  'Zahara SATA HDD CABLE+CADDY REPLACEMENT FOR LENOVO THINKCENTRE M710Q M910Q M910X M920Q M920X 00XL211': '£41.89',\n",
       "  'Lenovo ThinkCentre M710q Tiny Business PC Core i5 (6400T) 2.20GHz 8GB 256GB SSD Windows 10 Pro 10MQS8F900 (Renewed)': '£149.00',\n",
       "  'Lenovo ThinkCentre NEO 50S Core i5-12400 16GB 512GB SSD Windows 11 Pro 64 Desktop PC': '£629.99',\n",
       "  'Lenovo ThinkCentre M720q Tiny Mini PC Intel Core i5-8400T 8GB DDR4 256GB SSD Windows 10 Pro 64 10T7004BUK (Renewed)': '£266.92',\n",
       "  'Lenovo ThinkCentre M93p Tiny USFF Desktop PC - Quad Core i5-4590T 8GB 256GB SSD WiFi Windows 10 Pro Desktop PC Computer (Renewed)': '£285.00',\n",
       "  'Mini PC Windows 11 Pro AMD Ryzen 9 5900HX 8 Cores 32GB RAM 512GB PCle SSD, Support 2 x 2.5 inch HDD/SSD, 2 x HDMI/ 2 x DisplayPort, 1 x 2.5G RJ45, 5 x USB 3.0, 1 x USB-C, 2 x Line Out': '£629.99',\n",
       "  'Lenovo ThinkCentre M900 TINY Desktop Quad Core i5-8GB RAM - 256GB SSD - W10 Pro (Renewed)': '£399.99',\n",
       "  'Lenovo ThinkCentre M75s Gen 2-11R8000GUK SFF Desktop PC': '£549.00',\n",
       "  'ThinkCentre M700 TINY Core i5-6400T 2.20GHz 8GB 120GB SSD W10 Pro (Certified Refurbished)': '£579.99',\n",
       "  'Lenovo ThinkCentre M92p SFF Quad Core i5-3470 8GB 250GB DVD WiFi Windows 10 Professional 64Bit Desktop PC Computer (Renewed)': '£699.00',\n",
       "  'Lenovo ThinkCentre M70t Tower Desktop - Intel Core i5-10400 (6 Cores, 4.3GHz), 16GB DDR4, 512GB SSD, Intel UHD Graphics 630, WiFi 11ac & BT 5, Windows 10 Pro - 11EV000EUK (Renewed)': '£499.00',\n",
       "  'MeLE Quieter 3Q Fanless Mini PC N5105, Small Computer Portable, DDR4, Win 11, Dual HDMI 4K, 2.4G/5G Wi-Fi 6, Gigabit Ethernet, BT 5.2, USB 3.2 * 4, SD Card & SSD Support, VESA Mount (8G/256G)': '£131.90',\n",
       "  'Lenovo ThinkCentre M90a Intel Core i5 60.5 cm (23.8\") 1920 x 1080 pixels 8 GB DDR4-SDRAM 256 GB SSD All-in-One PC Windows 11 Pro Wi-Fi 5 (802.11ac) Black': '£159.99',\n",
       "  'Lenovo ThinkCentre M70q Gen 2 Mini PC, Intel Core i5, 8GB RAM, Windows 10 Pro': '£799.99',\n",
       "  'THINKCENTRE Lenovo M73 Tiny Desktop PC 10AX-A016UK i3 8GB RAM 120GB SSD Smart TV WiFi WIN 10 Home (Renewed)': '£399.99',\n",
       "  'HISTTON Firewall Micro Appliance Fanless Mini PC 4 LAN Quad Core Celeron J4125 Firewall PC 4GB RAM 128GB SSD, OPNsense Mini Firewall, HDMI, WiFI, BT4.0, AES-NI, Mini PC Server VPN Router': '£549.00',\n",
       "  'Lenovo ThinkCentre M70s Core i7-10700 8GB 256GB SSD Windoes 10 Pro Desktop PC': '£115.90',\n",
       "  'Lenovo ThinkCentre neo 50s DDR4-SDRAM i7-12700 CFF Intel® Core™ i7 8 GB 512 GB SSD Windows 11 Pro PC Black': '£89.99',\n",
       "  'Lenovo Thinkcentre M710S SFF Office Desktop PC i5 6500 3.20 GHz 8GB RAM 256GB SSD Windows 10 Pro 10M70007UK (Renewed)': '£679.99',\n",
       "  'MeLE PCG02 Mini PC Stick Fanless Celeron J4125, Small Computer Portable Micro PC, DDR4, Win 11, HDMI 4K 60Hz, 2.4G/5G Wi-Fi, Gigabit Ethernet, BT 4.2, USB 3.0 * 2, Wake on LAN, PXE (8G/256G)': '£299.99',\n",
       "  'Micro Computer Intel 11th Generation Processors N5100 Mini PC W11Desktop PC, 8G DDR4 128G M.2 SSD 2280 TRIGKEY Green G3, Support Micro PC W10 Pro Dual 4K@60Hz HDMI/WiFi 5/BT/W11': '£1,233.85'},\n",
       " 'Techbuyer': {'Lenovo Thinkcentre M710S SFF I5-7400 8GB 256GB SSD Windows 10 Pro B Grade': '£141.38',\n",
       "  'Lenovo Thinkcentre M720Q I5-9400T 8GB 256GB SSD WiFi Windows 10 ProB Grade': '£169.66',\n",
       "  'IBM Lenovo ThinkCentre M57 Heatsink Fan Assembly': '£353.44',\n",
       "  'IBM Lenovo ThinkCentre M57 HeatSink Fan Assembly': '£424.13',\n",
       "  'Lenovo 4GB (1x4GB) PC3-12800S 1Rx8 Laptop Memory': '£20.66',\n",
       "  'Lenovo Solid State Drive 120GB MLC SATA': '£163.13',\n",
       "  'Lenovo Hard Drive 146GB 15K SAS': '£20.66',\n",
       "  'Lenovo Hard Drive 600GB 15K SAS': '£16.31',\n",
       "  'Lenovo 300GB 15K SAS Hard Drive': '£19.57',\n",
       "  'Lenovo 16GB (1x16GB) PC4-17000R Server Memory': '£97.87',\n",
       "  'Lenovo Hard Drive 600GB 15K 512 DP SAS': '£65.26',\n",
       "  'Lenovo 1.2TB Hard Drive 10K SAS': '£29.36',\n",
       "  'Lenovo 1.2TB 10K SAS Hard Drive': '£35.23',\n",
       "  'Lenovo 600GB 15K SAS Hard Drive': '£81.56',\n",
       "  'Lenovo 1.2TB Hard Drve 10k SAS': '£81.56',\n",
       "  'Lenovo Hard Drive 300GB 10K SAS': '£97.87',\n",
       "  'Lenovo 16GB (1x16GB) PC4-2133P 2Rx4 Server Memory': '£135.94'}}"
      ]
     },
     "execution_count": 18,
     "metadata": {},
     "output_type": "execute_result"
    }
   ],
   "source": [
    "# Scrape product prices\n",
    "prices = bs.findAll('span',{'class':'price'})\n",
    "priceList = []\n",
    "for price in prices:\n",
    "    priceList.append(price.get_text())\n",
    "# Store scraped data in a dictionary\n",
    "n = len(nameList)\n",
    "products = {}\n",
    "for i in range(n):\n",
    "    products[nameList[i]] = priceList[i]\n",
    "result['Techbuyer'] =  products\n",
    "result"
   ]
  },
  {
   "cell_type": "code",
   "execution_count": 19,
   "id": "a0385e49-594a-416a-921a-4937beb8e49a",
   "metadata": {},
   "outputs": [
    {
     "name": "stdout",
     "output_type": "stream",
     "text": [
      "{'Amazon': {'Lenovo ThinkCentre M900 Tower PC i7 - 6700 16GB RAM 480GB SSD + 500GB HDD USB 3.0 Windows 10 Pro (Refurbished)': '£339.99', 'Zahara SATA HDD CABLE+CADDY REPLACEMENT FOR LENOVO THINKCENTRE M710Q M910Q M910X M920Q M920X 00XL211': '£41.89', 'Lenovo ThinkCentre M710q Tiny Business PC Core i5 (6400T) 2.20GHz 8GB 256GB SSD Windows 10 Pro 10MQS8F900 (Renewed)': '£149.00', 'Lenovo ThinkCentre NEO 50S Core i5-12400 16GB 512GB SSD Windows 11 Pro 64 Desktop PC': '£629.99', 'Lenovo ThinkCentre M720q Tiny Mini PC Intel Core i5-8400T 8GB DDR4 256GB SSD Windows 10 Pro 64 10T7004BUK (Renewed)': '£266.92', 'Lenovo ThinkCentre M93p Tiny USFF Desktop PC - Quad Core i5-4590T 8GB 256GB SSD WiFi Windows 10 Pro Desktop PC Computer (Renewed)': '£285.00', 'Mini PC Windows 11 Pro AMD Ryzen 9 5900HX 8 Cores 32GB RAM 512GB PCle SSD, Support 2 x 2.5 inch HDD/SSD, 2 x HDMI/ 2 x DisplayPort, 1 x 2.5G RJ45, 5 x USB 3.0, 1 x USB-C, 2 x Line Out': '£629.99', 'Lenovo ThinkCentre M900 TINY Desktop Quad Core i5-8GB RAM - 256GB SSD - W10 Pro (Renewed)': '£399.99', 'Lenovo ThinkCentre M75s Gen 2-11R8000GUK SFF Desktop PC': '£549.00', 'ThinkCentre M700 TINY Core i5-6400T 2.20GHz 8GB 120GB SSD W10 Pro (Certified Refurbished)': '£579.99', 'Lenovo ThinkCentre M92p SFF Quad Core i5-3470 8GB 250GB DVD WiFi Windows 10 Professional 64Bit Desktop PC Computer (Renewed)': '£699.00', 'Lenovo ThinkCentre M70t Tower Desktop - Intel Core i5-10400 (6 Cores, 4.3GHz), 16GB DDR4, 512GB SSD, Intel UHD Graphics 630, WiFi 11ac & BT 5, Windows 10 Pro - 11EV000EUK (Renewed)': '£499.00', 'MeLE Quieter 3Q Fanless Mini PC N5105, Small Computer Portable, DDR4, Win 11, Dual HDMI 4K, 2.4G/5G Wi-Fi 6, Gigabit Ethernet, BT 5.2, USB 3.2 * 4, SD Card & SSD Support, VESA Mount (8G/256G)': '£131.90', 'Lenovo ThinkCentre M90a Intel Core i5 60.5 cm (23.8\") 1920 x 1080 pixels 8 GB DDR4-SDRAM 256 GB SSD All-in-One PC Windows 11 Pro Wi-Fi 5 (802.11ac) Black': '£159.99', 'Lenovo ThinkCentre M70q Gen 2 Mini PC, Intel Core i5, 8GB RAM, Windows 10 Pro': '£799.99', 'THINKCENTRE Lenovo M73 Tiny Desktop PC 10AX-A016UK i3 8GB RAM 120GB SSD Smart TV WiFi WIN 10 Home (Renewed)': '£399.99', 'HISTTON Firewall Micro Appliance Fanless Mini PC 4 LAN Quad Core Celeron J4125 Firewall PC 4GB RAM 128GB SSD, OPNsense Mini Firewall, HDMI, WiFI, BT4.0, AES-NI, Mini PC Server VPN Router': '£549.00', 'Lenovo ThinkCentre M70s Core i7-10700 8GB 256GB SSD Windoes 10 Pro Desktop PC': '£115.90', 'Lenovo ThinkCentre neo 50s DDR4-SDRAM i7-12700 CFF Intel® Core™ i7 8 GB 512 GB SSD Windows 11 Pro PC Black': '£89.99', 'Lenovo Thinkcentre M710S SFF Office Desktop PC i5 6500 3.20 GHz 8GB RAM 256GB SSD Windows 10 Pro 10M70007UK (Renewed)': '£679.99', 'MeLE PCG02 Mini PC Stick Fanless Celeron J4125, Small Computer Portable Micro PC, DDR4, Win 11, HDMI 4K 60Hz, 2.4G/5G Wi-Fi, Gigabit Ethernet, BT 4.2, USB 3.0 * 2, Wake on LAN, PXE (8G/256G)': '£299.99', 'Micro Computer Intel 11th Generation Processors N5100 Mini PC W11Desktop PC, 8G DDR4 128G M.2 SSD 2280 TRIGKEY Green G3, Support Micro PC W10 Pro Dual 4K@60Hz HDMI/WiFi 5/BT/W11': '£1,233.85'}, 'Techbuyer': {'Lenovo Thinkcentre M710S SFF I5-7400 8GB 256GB SSD Windows 10 Pro B Grade': '£141.38', 'Lenovo Thinkcentre M720Q I5-9400T 8GB 256GB SSD WiFi Windows 10 ProB Grade': '£169.66', 'IBM Lenovo ThinkCentre M57 Heatsink Fan Assembly': '£353.44', 'IBM Lenovo ThinkCentre M57 HeatSink Fan Assembly': '£424.13', 'Lenovo 4GB (1x4GB) PC3-12800S 1Rx8 Laptop Memory': '£20.66', 'Lenovo Solid State Drive 120GB MLC SATA': '£163.13', 'Lenovo Hard Drive 146GB 15K SAS': '£20.66', 'Lenovo Hard Drive 600GB 15K SAS': '£16.31', 'Lenovo 300GB 15K SAS Hard Drive': '£19.57', 'Lenovo 16GB (1x16GB) PC4-17000R Server Memory': '£97.87', 'Lenovo Hard Drive 600GB 15K 512 DP SAS': '£65.26', 'Lenovo 1.2TB Hard Drive 10K SAS': '£29.36', 'Lenovo 1.2TB 10K SAS Hard Drive': '£35.23', 'Lenovo 600GB 15K SAS Hard Drive': '£81.56', 'Lenovo 16GB (1x16GB) PC4-2133P 2Rx4 Server Memory': '£81.56', 'Lenovo 1.2TB Hard Drve 10k SAS': '£97.87', 'Lenovo Hard Drive 300GB 10K SAS': '£135.94'}}\n"
     ]
    }
   ],
   "source": [
    "def scrapeTechbuyer(bs):\n",
    "    # Scrape product names\n",
    "    names = bs.findAll('a',{'class':'products__item-link'})\n",
    "    nameList = []\n",
    "    for name in names:\n",
    "        nameList.append(name.get_text())\n",
    "    # Delete the \"\\n\"\n",
    "    temp = []\n",
    "    for n in nameList:\n",
    "        temp.append(n.strip())\n",
    "    nameList = temp\n",
    "    \n",
    "    # Scrape product prices\n",
    "    prices = bs.findAll('span',{'class':'price'})\n",
    "    priceList = []\n",
    "    for price in prices:\n",
    "        priceList.append(price.get_text())\n",
    "    # Store scraped data in a dictionary\n",
    "    n = len(nameList)\n",
    "    products = {}\n",
    "    for i in range(n):\n",
    "        products[nameList[i]] = priceList[i]\n",
    "    result['Techbuyer'] =  products\n",
    "    return result\n",
    "\n",
    "bs2 = getData(url2)\n",
    "print(scrapeTechbuyer(bs2))\n",
    "    "
   ]
  },
  {
   "cell_type": "code",
   "execution_count": null,
   "id": "7bbab928-5294-4a59-82bf-94b0c0328cf7",
   "metadata": {},
   "outputs": [],
   "source": []
  }
 ],
 "metadata": {
  "kernelspec": {
   "display_name": "Python 3",
   "language": "python",
   "name": "python3"
  },
  "language_info": {
   "codemirror_mode": {
    "name": "ipython",
    "version": 3
   },
   "file_extension": ".py",
   "mimetype": "text/x-python",
   "name": "python",
   "nbconvert_exporter": "python",
   "pygments_lexer": "ipython3",
   "version": "3.8.8"
  }
 },
 "nbformat": 4,
 "nbformat_minor": 5
}
